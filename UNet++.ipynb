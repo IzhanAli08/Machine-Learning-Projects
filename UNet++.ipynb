{
  "cells": [
    {
      "cell_type": "code",
      "execution_count": null,
      "metadata": {
        "id": "Qz7ccRvfvDbE",
        "colab": {
          "base_uri": "https://localhost:8080/"
        },
        "outputId": "46e29b86-31ab-409b-f10d-f18b032947c0"
      },
      "outputs": [
        {
          "output_type": "stream",
          "name": "stdout",
          "text": [
            "Mounted at /content/drive\n"
          ]
        }
      ],
      "source": [
        "from google.colab import drive\n",
        "drive.mount('/content/drive')"
      ]
    },
    {
      "cell_type": "code",
      "source": [
        "import os\n",
        "import yaml\n",
        "import torch\n",
        "import pandas as pd\n",
        "import cv2\n",
        "import numpy as np\n",
        "import torch.utils.data\n",
        "import torch.nn as nn\n",
        "import torch.optim as optim\n",
        "\n",
        "from glob import glob\n",
        "from tqdm import tqdm\n",
        "from collections import OrderedDict\n",
        "from albumentations.augmentations import transforms\n",
        "from sklearn.model_selection import train_test_split\n",
        "from albumentations.core.composition import Compose, OneOf\n",
        "#from train import train, validate\n",
        "#from source.network import UNetPP\n",
        "#from source.dataset import DataSet"
      ],
      "metadata": {
        "id": "ZMnjwzegc9R1"
      },
      "execution_count": null,
      "outputs": []
    },
    {
      "cell_type": "code",
      "execution_count": null,
      "metadata": {
        "id": "Z_KB1xyFvDbJ"
      },
      "outputs": [],
      "source": [
        "class DataSet(torch.utils.data.Dataset):\n",
        "    def __init__(self, img_ids, img_dir, mask_dir, img_ext, mask_ext, transform=None):\n",
        "        self.img_ids = img_ids\n",
        "        self.img_dir = img_dir\n",
        "        self.mask_dir = mask_dir\n",
        "        self.img_ext = img_ext\n",
        "        self.mask_ext = mask_ext\n",
        "        self.transform = transform\n",
        "\n",
        "    def __len__(self):\n",
        "        return len(self.img_ids)\n",
        "\n",
        "    def __getitem__(self, idx):\n",
        "        img_id = self.img_ids[idx]\n",
        "\n",
        "        img = cv2.imread(os.path.join(self.img_dir, img_id + self.img_ext))\n",
        "\n",
        "        mask = []\n",
        "        mask.append(cv2.imread(os.path.join(self.mask_dir,\n",
        "                                            img_id + self.mask_ext), cv2.IMREAD_GRAYSCALE)[..., None])\n",
        "        mask = np.dstack(mask)\n",
        "\n",
        "        if self.transform is not None:\n",
        "            augmented = self.transform(image=img, mask=mask)\n",
        "            img = augmented['image']\n",
        "            mask = augmented['mask']\n",
        "\n",
        "        img = img.astype('float32') / 255\n",
        "        img = img.transpose(2, 0, 1)\n",
        "        mask = mask.astype('float32') / 255\n",
        "        mask = mask.transpose(2, 0, 1)\n",
        "\n",
        "        return img, mask, {'img_id': img_id}\n",
        "\n"
      ]
    },
    {
      "cell_type": "code",
      "execution_count": null,
      "metadata": {
        "id": "XZMKTZXvvDbK"
      },
      "outputs": [],
      "source": [
        "import torch\n",
        "from torch import nn\n",
        "\n",
        "\n",
        "class VGGBlock(nn.Module):\n",
        "    def __init__(self, in_channels, middle_channels, out_channels):\n",
        "        super().__init__()\n",
        "        self.relu = nn.ReLU(inplace=True)\n",
        "        self.conv1 = nn.Conv2d(in_channels, middle_channels, 3, padding=1)\n",
        "        self.bn1 = nn.BatchNorm2d(middle_channels)\n",
        "        self.conv2 = nn.Conv2d(middle_channels, out_channels, 3, padding=1)\n",
        "        self.bn2 = nn.BatchNorm2d(out_channels)\n",
        "\n",
        "    def forward(self, x):\n",
        "        out = self.conv1(x)\n",
        "        out = self.bn1(out)\n",
        "        out = self.relu(out)\n",
        "\n",
        "        out = self.conv2(out)\n",
        "        out = self.bn2(out)\n",
        "        out = self.relu(out)\n",
        "\n",
        "        return out\n",
        "\n",
        "\n",
        "class UNetPP(nn.Module):\n",
        "    def __init__(self, num_classes, input_channels=3, deep_supervision=False, **kwargs):\n",
        "        super().__init__()\n",
        "\n",
        "        nb_filter = [32, 64, 128, 256, 512]\n",
        "\n",
        "        self.deep_supervision = deep_supervision\n",
        "\n",
        "        self.pool = nn.MaxPool2d(2, 2)\n",
        "        self.up = nn.Upsample(scale_factor=2, mode='bilinear', align_corners=True)\n",
        "\n",
        "        self.conv0_0 = VGGBlock(input_channels, nb_filter[0], nb_filter[0])\n",
        "        self.conv1_0 = VGGBlock(nb_filter[0], nb_filter[1], nb_filter[1])\n",
        "        self.conv2_0 = VGGBlock(nb_filter[1], nb_filter[2], nb_filter[2])\n",
        "        self.conv3_0 = VGGBlock(nb_filter[2], nb_filter[3], nb_filter[3])\n",
        "        self.conv4_0 = VGGBlock(nb_filter[3], nb_filter[4], nb_filter[4])\n",
        "\n",
        "        self.conv0_1 = VGGBlock(nb_filter[0]+nb_filter[1], nb_filter[0], nb_filter[0])\n",
        "        self.conv1_1 = VGGBlock(nb_filter[1]+nb_filter[2], nb_filter[1], nb_filter[1])\n",
        "        self.conv2_1 = VGGBlock(nb_filter[2]+nb_filter[3], nb_filter[2], nb_filter[2])\n",
        "        self.conv3_1 = VGGBlock(nb_filter[3]+nb_filter[4], nb_filter[3], nb_filter[3])\n",
        "\n",
        "        self.conv0_2 = VGGBlock(nb_filter[0]*2+nb_filter[1], nb_filter[0], nb_filter[0])\n",
        "        self.conv1_2 = VGGBlock(nb_filter[1]*2+nb_filter[2], nb_filter[1], nb_filter[1])\n",
        "        self.conv2_2 = VGGBlock(nb_filter[2]*2+nb_filter[3], nb_filter[2], nb_filter[2])\n",
        "\n",
        "        self.conv0_3 = VGGBlock(nb_filter[0]*3+nb_filter[1], nb_filter[0], nb_filter[0])\n",
        "        self.conv1_3 = VGGBlock(nb_filter[1]*3+nb_filter[2], nb_filter[1], nb_filter[1])\n",
        "\n",
        "        self.conv0_4 = VGGBlock(nb_filter[0]*4+nb_filter[1], nb_filter[0], nb_filter[0])\n",
        "\n",
        "        if self.deep_supervision:\n",
        "            self.final1 = nn.Conv2d(nb_filter[0], num_classes, kernel_size=1)\n",
        "            self.final2 = nn.Conv2d(nb_filter[0], num_classes, kernel_size=1)\n",
        "            self.final3 = nn.Conv2d(nb_filter[0], num_classes, kernel_size=1)\n",
        "            self.final4 = nn.Conv2d(nb_filter[0], num_classes, kernel_size=1)\n",
        "        else:\n",
        "            self.final = nn.Conv2d(nb_filter[0], num_classes, kernel_size=1)\n",
        "\n",
        "\n",
        "    def forward(self, input):\n",
        "        x0_0 = self.conv0_0(input)\n",
        "        x1_0 = self.conv1_0(self.pool(x0_0))\n",
        "        x0_1 = self.conv0_1(torch.cat([x0_0, self.up(x1_0)], 1))\n",
        "\n",
        "        x2_0 = self.conv2_0(self.pool(x1_0))\n",
        "        x1_1 = self.conv1_1(torch.cat([x1_0, self.up(x2_0)], 1))\n",
        "        x0_2 = self.conv0_2(torch.cat([x0_0, x0_1, self.up(x1_1)], 1))\n",
        "\n",
        "        x3_0 = self.conv3_0(self.pool(x2_0))\n",
        "        x2_1 = self.conv2_1(torch.cat([x2_0, self.up(x3_0)], 1))\n",
        "        x1_2 = self.conv1_2(torch.cat([x1_0, x1_1, self.up(x2_1)], 1))\n",
        "        x0_3 = self.conv0_3(torch.cat([x0_0, x0_1, x0_2, self.up(x1_2)], 1))\n",
        "\n",
        "        x4_0 = self.conv4_0(self.pool(x3_0))\n",
        "        x3_1 = self.conv3_1(torch.cat([x3_0, self.up(x4_0)], 1))\n",
        "        x2_2 = self.conv2_2(torch.cat([x2_0, x2_1, self.up(x3_1)], 1))\n",
        "        x1_3 = self.conv1_3(torch.cat([x1_0, x1_1, x1_2, self.up(x2_2)], 1))\n",
        "        x0_4 = self.conv0_4(torch.cat([x0_0, x0_1, x0_2, x0_3, self.up(x1_3)], 1))\n",
        "\n",
        "        if self.deep_supervision:\n",
        "            output1 = self.final1(x0_1)\n",
        "            output2 = self.final2(x0_2)\n",
        "            output3 = self.final3(x0_3)\n",
        "            output4 = self.final4(x0_4)\n",
        "            return [output1, output2, output3, output4]\n",
        "\n",
        "        else:\n",
        "            output = self.final(x0_4)\n",
        "            return output\n"
      ]
    },
    {
      "cell_type": "code",
      "execution_count": null,
      "metadata": {
        "id": "RIFRpoMTvDbL"
      },
      "outputs": [],
      "source": [
        "import torch\n",
        "\n",
        "\n",
        "class AverageMeter(object):\n",
        "    \"\"\"Computes and stores the average and current value\"\"\"\n",
        "\n",
        "    def __init__(self):\n",
        "        self.reset()\n",
        "\n",
        "    def reset(self):\n",
        "        self.val = 0\n",
        "        self.avg = 0\n",
        "        self.sum = 0\n",
        "        self.count = 0\n",
        "\n",
        "    def update(self, val, n=1):\n",
        "        self.val = val\n",
        "        self.sum += val * n\n",
        "        self.count += n\n",
        "        self.avg = self.sum / self.count\n",
        "\n",
        "\n",
        "def iou_score(output, target):\n",
        "    smooth = 1e-5\n",
        "\n",
        "    if torch.is_tensor(output):\n",
        "        output = torch.sigmoid(output).data.cpu().numpy()\n",
        "    if torch.is_tensor(target):\n",
        "        target = target.data.cpu().numpy()\n",
        "    output_ = output > 0.5\n",
        "    target_ = target > 0.5\n",
        "    intersection = (output_ & target_).sum()\n",
        "    union = (output_ | target_).sum()\n",
        "\n",
        "    return (intersection + smooth) / (union + smooth)\n"
      ]
    },
    {
      "cell_type": "code",
      "execution_count": null,
      "metadata": {
        "id": "3Lha8tcvvDbM"
      },
      "outputs": [],
      "source": [
        "import os\n",
        "import yaml\n",
        "import torch\n",
        "import pandas as pd\n",
        "import torch.nn as nn\n",
        "import torch.optim as optim\n",
        "\n",
        "from glob import glob\n",
        "from tqdm import tqdm\n",
        "from collections import OrderedDict\n",
        "#from source.utils import iou_score, AverageMeter\n",
        "from albumentations import Resize\n",
        "from albumentations.augmentations import transforms\n",
        "from sklearn.model_selection import train_test_split\n",
        "from albumentations.core.composition import Compose, OneOf\n",
        "from albumentations.augmentations.geometric.rotate import RandomRotate90\n",
        "#from source.network import UNetPP\n",
        "#from source.dataset import DataSet\n",
        "\n",
        "\n",
        "def train(deep_sup, train_loader, model, criterion, optimizer):\n",
        "    avg_meters = {'loss': AverageMeter(),\n",
        "                  'iou': AverageMeter()}\n",
        "\n",
        "    model.train()\n",
        "\n",
        "    pbar = tqdm(total=len(train_loader))\n",
        "    device = torch.device(\"cuda:0\" if torch.cuda.is_available() else \"cpu\")\n",
        "    for input, target, _ in train_loader:\n",
        "        input = input.to(device)\n",
        "        target = target.to(device)\n",
        "\n",
        "        # compute output\n",
        "        if deep_sup:\n",
        "            outputs = model(input)\n",
        "            loss = 0\n",
        "            for output in outputs:\n",
        "                loss += criterion(output, target)\n",
        "            loss /= len(outputs)\n",
        "            iou = iou_score(outputs[-1], target)\n",
        "        else:\n",
        "            output = model(input)\n",
        "            loss = criterion(output, target)\n",
        "            iou = iou_score(output, target)\n",
        "\n",
        "        # compute gradient and do optimizing step\n",
        "        optimizer.zero_grad()\n",
        "        loss.backward()\n",
        "        optimizer.step()\n",
        "\n",
        "        avg_meters['loss'].update(loss.item(), input.size(0))\n",
        "        avg_meters['iou'].update(iou, input.size(0))\n",
        "\n",
        "        postfix = OrderedDict([\n",
        "            ('loss', avg_meters['loss'].avg),\n",
        "            ('iou', avg_meters['iou'].avg),\n",
        "        ])\n",
        "        pbar.set_postfix(postfix)\n",
        "        pbar.update(1)\n",
        "    pbar.close()\n",
        "\n",
        "    return OrderedDict([('loss', avg_meters['loss'].avg),\n",
        "                        ('iou', avg_meters['iou'].avg)])\n",
        "\n",
        "\n",
        "def validate(deep_sup, val_loader, model, criterion):\n",
        "    avg_meters = {'loss': AverageMeter(),\n",
        "                  'iou': AverageMeter()}\n",
        "\n",
        "    # switch to evaluate mode\n",
        "    model.eval()\n",
        "    device = torch.device(\"cuda:0\" if torch.cuda.is_available() else \"cpu\")\n",
        "\n",
        "    with torch.no_grad():\n",
        "        pbar = tqdm(total=len(val_loader))\n",
        "        for input, target, _ in val_loader:\n",
        "            input = input.to(device)\n",
        "            target = target.to(device)\n",
        "\n",
        "            # compute output\n",
        "            if deep_sup:\n",
        "                outputs = model(input)\n",
        "                loss = 0\n",
        "                for output in outputs:\n",
        "                    loss += criterion(output, target)\n",
        "                loss /= len(outputs)\n",
        "                iou = iou_score(outputs[-1], target)\n",
        "            else:\n",
        "                output = model(input)\n",
        "                loss = criterion(output, target)\n",
        "                iou = iou_score(output, target)\n",
        "\n",
        "            avg_meters['loss'].update(loss.item(), input.size(0))\n",
        "            avg_meters['iou'].update(iou, input.size(0))\n",
        "\n",
        "            postfix = OrderedDict([\n",
        "                ('loss', avg_meters['loss'].avg),\n",
        "                ('iou', avg_meters['iou'].avg),\n",
        "            ])\n",
        "            pbar.set_postfix(postfix)\n",
        "            pbar.update(1)\n",
        "        pbar.close()\n",
        "\n",
        "    return OrderedDict([('loss', avg_meters['loss'].avg),\n",
        "                        ('iou', avg_meters['iou'].avg)])\n"
      ]
    },
    {
      "cell_type": "code",
      "execution_count": null,
      "metadata": {
        "id": "8uClIvHhvDbM"
      },
      "outputs": [],
      "source": [
        "import cv2\n",
        "import yaml\n",
        "import torch\n",
        "import numpy as np\n",
        "import matplotlib.pyplot as plt\n",
        "\n",
        "#from source.network import UNetPP\n",
        "from argparse import ArgumentParser\n",
        "from albumentations import Resize\n",
        "from albumentations.augmentations import transforms\n",
        "from albumentations.core.composition import Compose\n",
        "\n",
        "\n",
        "val_transform = Compose([\n",
        "    Resize(256, 256),\n",
        "    transforms.Normalize(),\n",
        "])\n",
        "\n",
        "\n",
        "def image_loader(image_name):\n",
        "    img = cv2.imread(image_name)\n",
        "    img = val_transform(image=img)[\"image\"]\n",
        "    img = img.astype('float32') / 255\n",
        "    img = img.transpose(2, 0, 1)\n",
        "\n",
        "    return img"
      ]
    },
    {
      "cell_type": "code",
      "source": [
        "extn= '.png'\n",
        "epochs= 100\n",
        "im_width= 384\n",
        "im_height= 288\n",
        "model_path =  '/content/drive/MyDrive/IzhanResearch/output/model.pth'\n",
        "log_path =  '/content/drive/MyDrive/IzhanResearch/output/logs.csv'\n",
        "image_path = '/content/drive/MyDrive/IzhanResearch/Original'\n",
        "mask_path = '/content/drive/MyDrive/IzhanResearch/GroundTruth'\n",
        "output_path = '/content/drive/MyDrive/IzhanResearch/output/prediction.png'"
      ],
      "metadata": {
        "id": "a8p7in6Fx7oL"
      },
      "execution_count": null,
      "outputs": []
    },
    {
      "cell_type": "markdown",
      "metadata": {
        "id": "PLJ4y6tlvDbN"
      },
      "source": [
        "## Create log file"
      ]
    },
    {
      "cell_type": "code",
      "execution_count": null,
      "metadata": {
        "id": "VFzKoXLGvDbP"
      },
      "outputs": [],
      "source": [
        "log = OrderedDict([\n",
        "    ('epoch', []),\n",
        "    ('loss', []),\n",
        "    ('iou', []),\n",
        "    ('val_loss', []),\n",
        "    ('val_iou', []),\n",
        "])\n",
        "\n",
        "best_iou = 0\n",
        "trigger = 0"
      ]
    },
    {
      "cell_type": "markdown",
      "metadata": {
        "id": "9_KkUS9nvDbP"
      },
      "source": [
        "## Split images into train and validation set"
      ]
    },
    {
      "cell_type": "code",
      "execution_count": null,
      "metadata": {
        "id": "EaKzksvuvDbQ"
      },
      "outputs": [],
      "source": [
        "extn_ = f\"*{extn}\"\n",
        "img_ids = glob(os.path.join(image_path, extn_))\n",
        "img_ids = [os.path.splitext(os.path.basename(p))[0] for p in img_ids]\n",
        "#print(len(img_ids))\n"
      ]
    },
    {
      "cell_type": "code",
      "source": [
        "#test_ids = img_ids[-60:]\n",
        "#img_ids = img_ids[:-60]\n",
        "#print(test_ids)"
      ],
      "metadata": {
        "id": "qyWuTeqvhQkF"
      },
      "execution_count": null,
      "outputs": []
    },
    {
      "cell_type": "code",
      "source": [
        "#train_img_ids\n",
        "train_img_ids, val_img_ids = train_test_split(img_ids, test_size=0.2)"
      ],
      "metadata": {
        "id": "kJbi2zn96cBU"
      },
      "execution_count": null,
      "outputs": []
    },
    {
      "cell_type": "markdown",
      "metadata": {
        "id": "nYCiDJZ3vDbQ"
      },
      "source": [
        "## Define data transformations"
      ]
    },
    {
      "cell_type": "code",
      "source": [
        "#!pip install -q albumentations==0.5.2\n",
        "import albumentations as A\n",
        "from albumentations import Compose, OneOf, transforms\n"
      ],
      "metadata": {
        "id": "8Xfoc3sc4Sm0"
      },
      "execution_count": null,
      "outputs": []
    },
    {
      "cell_type": "code",
      "execution_count": null,
      "metadata": {
        "id": "78O2OpU3vDbQ"
      },
      "outputs": [],
      "source": [
        "train_transform = Compose([\n",
        "    A.RandomRotate90(),\n",
        "    #A.HorizontalFlip(),\n",
        "    #A.VerticalFlip(),\n",
        "    OneOf([\n",
        "        transforms.HueSaturationValue(),\n",
        "        #A.RandomBrightness(limit = 0.5),\n",
        "        #transforms.RandomContrast(),\n",
        "    ], p=1),\n",
        "    A.Resize(256, 256),\n",
        "    transforms.Normalize(),\n",
        "])\n",
        "\n",
        "val_transform = Compose([\n",
        "    A.Resize(256, 256),\n",
        "    transforms.Normalize(),\n",
        "])"
      ]
    },
    {
      "cell_type": "markdown",
      "metadata": {
        "id": "aG_uCVBMvDbQ"
      },
      "source": [
        "## Create train and validation dataset"
      ]
    },
    {
      "cell_type": "code",
      "execution_count": null,
      "metadata": {
        "id": "XY0qUcRCvDbR"
      },
      "outputs": [],
      "source": [
        "train_dataset = DataSet(\n",
        "    img_ids=train_img_ids,\n",
        "    img_dir=image_path,\n",
        "    mask_dir=mask_path,\n",
        "    img_ext=extn,\n",
        "    mask_ext=extn,\n",
        "    transform=train_transform)\n",
        "\n",
        "val_dataset = DataSet(\n",
        "    img_ids=val_img_ids,\n",
        "    img_dir=image_path,\n",
        "    mask_dir=mask_path,\n",
        "    img_ext=extn,\n",
        "    mask_ext=extn,\n",
        "    transform=val_transform)"
      ]
    },
    {
      "cell_type": "markdown",
      "metadata": {
        "id": "NT3yrqu8vDbR"
      },
      "source": [
        "## Create train and validation data loaders"
      ]
    },
    {
      "cell_type": "code",
      "execution_count": null,
      "metadata": {
        "id": "472ySX6qvDbR"
      },
      "outputs": [],
      "source": [
        "train_loader = torch.utils.data.DataLoader(\n",
        "    train_dataset,\n",
        "    batch_size=10,\n",
        "    shuffle=True,\n",
        "    drop_last=True)\n",
        "\n",
        "val_loader = torch.utils.data.DataLoader(\n",
        "    val_dataset,\n",
        "    batch_size=10,\n",
        "    shuffle=False,\n",
        "    drop_last=False)"
      ]
    },
    {
      "cell_type": "code",
      "source": [
        "train_loader"
      ],
      "metadata": {
        "colab": {
          "base_uri": "https://localhost:8080/"
        },
        "id": "pgjuJP0U6Bx1",
        "outputId": "2c36111a-09a1-44ed-fbcc-e55cdfae6867"
      },
      "execution_count": null,
      "outputs": [
        {
          "output_type": "execute_result",
          "data": {
            "text/plain": [
              "<torch.utils.data.dataloader.DataLoader at 0x7d31acfb13c0>"
            ]
          },
          "metadata": {},
          "execution_count": 21
        }
      ]
    },
    {
      "cell_type": "markdown",
      "metadata": {
        "id": "LCGmGx4kvDbR"
      },
      "source": [
        "## Create the model object"
      ]
    },
    {
      "cell_type": "code",
      "execution_count": null,
      "metadata": {
        "id": "vIjQNOKzvDbR"
      },
      "outputs": [],
      "source": [
        "# Create model object\n",
        "model = UNetPP(1, 3, True)\n",
        "\n",
        "# Port model to GPU if it is available\n",
        "if torch.cuda.is_available():\n",
        "    model.cuda()\n",
        "\n",
        "# Define Loss Function\n",
        "criterion = nn.BCEWithLogitsLoss()\n",
        "params = filter(lambda p: p.requires_grad, model.parameters())\n",
        "\n",
        "# Define Optimizer\n",
        "optimizer = optim.Adam(params, lr=1e-3, weight_decay=1e-4)"
      ]
    },
    {
      "cell_type": "markdown",
      "metadata": {
        "id": "8DKAAsknvDbR"
      },
      "source": [
        "## Run the train loop"
      ]
    },
    {
      "cell_type": "code",
      "execution_count": null,
      "metadata": {
        "colab": {
          "base_uri": "https://localhost:8080/"
        },
        "id": "S2mTQB39vDbR",
        "outputId": "178165e7-2232-43e3-c3a3-6165012b85a6"
      },
      "outputs": [
        {
          "metadata": {
            "tags": null
          },
          "name": "stdout",
          "output_type": "stream",
          "text": [
            "Epoch [0/100]\n"
          ]
        },
        {
          "metadata": {
            "tags": null
          },
          "name": "stderr",
          "output_type": "stream",
          "text": [
            "100%|██████████| 48/48 [06:17<00:00,  7.87s/it, loss=0.479, iou=0.024]\n",
            "100%|██████████| 13/13 [01:28<00:00,  6.84s/it, loss=0.413, iou=1.79e-10]\n"
          ]
        },
        {
          "metadata": {
            "tags": null
          },
          "name": "stdout",
          "output_type": "stream",
          "text": [
            "loss 0.4793 - iou 0.0240 - val_loss 0.4133 - val_iou 0.0000\n",
            "=> saved best model\n",
            "Epoch [1/100]\n"
          ]
        },
        {
          "metadata": {
            "tags": null
          },
          "name": "stderr",
          "output_type": "stream",
          "text": [
            "100%|██████████| 48/48 [00:30<00:00,  1.57it/s, loss=0.354, iou=0.000942]\n",
            "100%|██████████| 13/13 [00:02<00:00,  4.39it/s, loss=0.347, iou=1.79e-10]\n"
          ]
        },
        {
          "metadata": {
            "tags": null
          },
          "name": "stdout",
          "output_type": "stream",
          "text": [
            "loss 0.3544 - iou 0.0009 - val_loss 0.3470 - val_iou 0.0000\n",
            "Epoch [2/100]\n"
          ]
        },
        {
          "metadata": {
            "tags": null
          },
          "name": "stderr",
          "output_type": "stream",
          "text": [
            "100%|██████████| 48/48 [00:23<00:00,  2.02it/s, loss=0.3, iou=0.00215]\n",
            "100%|██████████| 13/13 [00:03<00:00,  4.25it/s, loss=0.307, iou=1.79e-10]\n"
          ]
        },
        {
          "metadata": {
            "tags": null
          },
          "name": "stdout",
          "output_type": "stream",
          "text": [
            "loss 0.3005 - iou 0.0021 - val_loss 0.3065 - val_iou 0.0000\n",
            "Epoch [3/100]\n"
          ]
        },
        {
          "metadata": {
            "tags": null
          },
          "name": "stderr",
          "output_type": "stream",
          "text": [
            "100%|██████████| 48/48 [00:23<00:00,  2.01it/s, loss=0.276, iou=0.000627]\n",
            "100%|██████████| 13/13 [00:02<00:00,  4.35it/s, loss=0.319, iou=1.79e-10]\n"
          ]
        },
        {
          "metadata": {
            "tags": null
          },
          "name": "stdout",
          "output_type": "stream",
          "text": [
            "loss 0.2764 - iou 0.0006 - val_loss 0.3185 - val_iou 0.0000\n",
            "Epoch [4/100]\n"
          ]
        },
        {
          "metadata": {
            "tags": null
          },
          "name": "stderr",
          "output_type": "stream",
          "text": [
            "100%|██████████| 48/48 [00:23<00:00,  2.02it/s, loss=0.264, iou=0.000737]\n",
            "100%|██████████| 13/13 [00:03<00:00,  4.21it/s, loss=0.264, iou=1.79e-10]\n"
          ]
        },
        {
          "metadata": {
            "tags": null
          },
          "name": "stdout",
          "output_type": "stream",
          "text": [
            "loss 0.2638 - iou 0.0007 - val_loss 0.2641 - val_iou 0.0000\n",
            "Epoch [5/100]\n"
          ]
        },
        {
          "metadata": {
            "tags": null
          },
          "name": "stderr",
          "output_type": "stream",
          "text": [
            "100%|██████████| 48/48 [00:23<00:00,  2.01it/s, loss=0.257, iou=0.000539]\n",
            "100%|██████████| 13/13 [00:03<00:00,  4.25it/s, loss=0.261, iou=1.79e-10]\n"
          ]
        },
        {
          "metadata": {
            "tags": null
          },
          "name": "stdout",
          "output_type": "stream",
          "text": [
            "loss 0.2571 - iou 0.0005 - val_loss 0.2605 - val_iou 0.0000\n",
            "Epoch [6/100]\n"
          ]
        },
        {
          "metadata": {
            "tags": null
          },
          "name": "stderr",
          "output_type": "stream",
          "text": [
            "100%|██████████| 48/48 [00:23<00:00,  2.01it/s, loss=0.255, iou=1.83e-10]\n",
            "100%|██████████| 13/13 [00:02<00:00,  4.34it/s, loss=0.262, iou=1.79e-10]\n"
          ]
        },
        {
          "metadata": {
            "tags": null
          },
          "name": "stdout",
          "output_type": "stream",
          "text": [
            "loss 0.2552 - iou 0.0000 - val_loss 0.2624 - val_iou 0.0000\n",
            "Epoch [7/100]\n"
          ]
        },
        {
          "metadata": {
            "tags": null
          },
          "name": "stderr",
          "output_type": "stream",
          "text": [
            "100%|██████████| 48/48 [00:23<00:00,  2.03it/s, loss=0.257, iou=4.99e-5]\n",
            "100%|██████████| 13/13 [00:03<00:00,  4.32it/s, loss=0.261, iou=1.79e-10]\n"
          ]
        },
        {
          "metadata": {
            "tags": null
          },
          "name": "stdout",
          "output_type": "stream",
          "text": [
            "loss 0.2575 - iou 0.0000 - val_loss 0.2606 - val_iou 0.0000\n",
            "Epoch [8/100]\n"
          ]
        },
        {
          "metadata": {
            "tags": null
          },
          "name": "stderr",
          "output_type": "stream",
          "text": [
            "100%|██████████| 48/48 [00:23<00:00,  2.02it/s, loss=0.248, iou=0.000201]\n",
            "100%|██████████| 13/13 [00:03<00:00,  4.31it/s, loss=0.262, iou=1.79e-10]\n"
          ]
        },
        {
          "metadata": {
            "tags": null
          },
          "name": "stdout",
          "output_type": "stream",
          "text": [
            "loss 0.2483 - iou 0.0002 - val_loss 0.2625 - val_iou 0.0000\n",
            "Epoch [9/100]\n"
          ]
        },
        {
          "metadata": {
            "tags": null
          },
          "name": "stderr",
          "output_type": "stream",
          "text": [
            "100%|██████████| 48/48 [00:23<00:00,  2.02it/s, loss=0.245, iou=0.00356]\n",
            "100%|██████████| 13/13 [00:03<00:00,  4.32it/s, loss=0.266, iou=1.79e-10]\n"
          ]
        },
        {
          "metadata": {
            "tags": null
          },
          "name": "stdout",
          "output_type": "stream",
          "text": [
            "loss 0.2448 - iou 0.0036 - val_loss 0.2664 - val_iou 0.0000\n",
            "Epoch [10/100]\n"
          ]
        },
        {
          "metadata": {
            "tags": null
          },
          "name": "stderr",
          "output_type": "stream",
          "text": [
            "100%|██████████| 48/48 [00:23<00:00,  2.01it/s, loss=0.247, iou=0.0169]\n",
            "100%|██████████| 13/13 [00:02<00:00,  4.36it/s, loss=0.265, iou=0.00322]\n"
          ]
        },
        {
          "metadata": {
            "tags": null
          },
          "name": "stdout",
          "output_type": "stream",
          "text": [
            "loss 0.2471 - iou 0.0169 - val_loss 0.2653 - val_iou 0.0032\n",
            "=> saved best model\n",
            "Epoch [11/100]\n"
          ]
        },
        {
          "metadata": {
            "tags": null
          },
          "name": "stderr",
          "output_type": "stream",
          "text": [
            "100%|██████████| 48/48 [00:23<00:00,  2.02it/s, loss=0.244, iou=0.00238]\n",
            "100%|██████████| 13/13 [00:02<00:00,  4.38it/s, loss=0.244, iou=1.79e-10]\n"
          ]
        },
        {
          "metadata": {
            "tags": null
          },
          "name": "stdout",
          "output_type": "stream",
          "text": [
            "loss 0.2444 - iou 0.0024 - val_loss 0.2437 - val_iou 0.0000\n",
            "Epoch [12/100]\n"
          ]
        },
        {
          "metadata": {
            "tags": null
          },
          "name": "stderr",
          "output_type": "stream",
          "text": [
            "100%|██████████| 48/48 [00:23<00:00,  2.01it/s, loss=0.24, iou=0.04]\n",
            "100%|██████████| 13/13 [00:03<00:00,  4.29it/s, loss=0.24, iou=0.0486]\n"
          ]
        },
        {
          "metadata": {
            "tags": null
          },
          "name": "stdout",
          "output_type": "stream",
          "text": [
            "loss 0.2403 - iou 0.0400 - val_loss 0.2398 - val_iou 0.0486\n",
            "=> saved best model\n",
            "Epoch [13/100]\n"
          ]
        },
        {
          "metadata": {
            "tags": null
          },
          "name": "stderr",
          "output_type": "stream",
          "text": [
            "100%|██████████| 48/48 [00:23<00:00,  2.02it/s, loss=0.241, iou=0.0751]\n",
            "100%|██████████| 13/13 [00:03<00:00,  4.27it/s, loss=0.237, iou=0.000414]\n"
          ]
        },
        {
          "metadata": {
            "tags": null
          },
          "name": "stdout",
          "output_type": "stream",
          "text": [
            "loss 0.2409 - iou 0.0751 - val_loss 0.2365 - val_iou 0.0004\n",
            "Epoch [14/100]\n"
          ]
        },
        {
          "metadata": {
            "tags": null
          },
          "name": "stderr",
          "output_type": "stream",
          "text": [
            "100%|██████████| 48/48 [00:24<00:00,  2.00it/s, loss=0.239, iou=0.0393]\n",
            "100%|██████████| 13/13 [00:02<00:00,  4.35it/s, loss=0.232, iou=0.0135]\n"
          ]
        },
        {
          "metadata": {
            "tags": null
          },
          "name": "stdout",
          "output_type": "stream",
          "text": [
            "loss 0.2389 - iou 0.0393 - val_loss 0.2319 - val_iou 0.0135\n",
            "Epoch [15/100]\n"
          ]
        },
        {
          "metadata": {
            "tags": null
          },
          "name": "stderr",
          "output_type": "stream",
          "text": [
            "100%|██████████| 48/48 [00:23<00:00,  2.01it/s, loss=0.24, iou=0.0273]\n",
            "100%|██████████| 13/13 [00:03<00:00,  4.26it/s, loss=0.226, iou=0.0279]\n"
          ]
        },
        {
          "metadata": {
            "tags": null
          },
          "name": "stdout",
          "output_type": "stream",
          "text": [
            "loss 0.2401 - iou 0.0273 - val_loss 0.2261 - val_iou 0.0279\n",
            "Epoch [16/100]\n"
          ]
        },
        {
          "metadata": {
            "tags": null
          },
          "name": "stderr",
          "output_type": "stream",
          "text": [
            "100%|██████████| 48/48 [00:23<00:00,  2.01it/s, loss=0.237, iou=0.0381]\n",
            "100%|██████████| 13/13 [00:02<00:00,  4.40it/s, loss=0.244, iou=3.58e-5]\n"
          ]
        },
        {
          "metadata": {
            "tags": null
          },
          "name": "stdout",
          "output_type": "stream",
          "text": [
            "loss 0.2368 - iou 0.0381 - val_loss 0.2440 - val_iou 0.0000\n",
            "Epoch [17/100]\n"
          ]
        },
        {
          "metadata": {
            "tags": null
          },
          "name": "stderr",
          "output_type": "stream",
          "text": [
            "100%|██████████| 48/48 [00:23<00:00,  2.01it/s, loss=0.236, iou=0.0566]\n",
            "100%|██████████| 13/13 [00:03<00:00,  4.31it/s, loss=0.258, iou=0.0179]\n"
          ]
        },
        {
          "metadata": {
            "tags": null
          },
          "name": "stdout",
          "output_type": "stream",
          "text": [
            "loss 0.2364 - iou 0.0566 - val_loss 0.2578 - val_iou 0.0179\n",
            "Epoch [18/100]\n"
          ]
        },
        {
          "metadata": {
            "tags": null
          },
          "name": "stderr",
          "output_type": "stream",
          "text": [
            "100%|██████████| 48/48 [00:23<00:00,  2.01it/s, loss=0.234, iou=0.119]\n",
            "100%|██████████| 13/13 [00:02<00:00,  4.34it/s, loss=0.267, iou=0.00196]\n"
          ]
        },
        {
          "metadata": {
            "tags": null
          },
          "name": "stdout",
          "output_type": "stream",
          "text": [
            "loss 0.2336 - iou 0.1187 - val_loss 0.2669 - val_iou 0.0020\n",
            "Epoch [19/100]\n"
          ]
        },
        {
          "metadata": {
            "tags": null
          },
          "name": "stderr",
          "output_type": "stream",
          "text": [
            "100%|██████████| 48/48 [00:23<00:00,  2.01it/s, loss=0.231, iou=0.141]\n",
            "100%|██████████| 13/13 [00:02<00:00,  4.36it/s, loss=0.227, iou=0.354]\n"
          ]
        },
        {
          "metadata": {
            "tags": null
          },
          "name": "stdout",
          "output_type": "stream",
          "text": [
            "loss 0.2306 - iou 0.1409 - val_loss 0.2268 - val_iou 0.3542\n",
            "=> saved best model\n",
            "Epoch [20/100]\n"
          ]
        },
        {
          "metadata": {
            "tags": null
          },
          "name": "stderr",
          "output_type": "stream",
          "text": [
            "100%|██████████| 48/48 [00:23<00:00,  2.01it/s, loss=0.227, iou=0.188]\n",
            "100%|██████████| 13/13 [00:03<00:00,  4.33it/s, loss=0.274, iou=0.244]\n"
          ]
        },
        {
          "metadata": {
            "tags": null
          },
          "name": "stdout",
          "output_type": "stream",
          "text": [
            "loss 0.2270 - iou 0.1882 - val_loss 0.2738 - val_iou 0.2441\n",
            "Epoch [21/100]\n"
          ]
        },
        {
          "metadata": {
            "tags": null
          },
          "name": "stderr",
          "output_type": "stream",
          "text": [
            "100%|██████████| 48/48 [00:23<00:00,  2.01it/s, loss=0.222, iou=0.193]\n",
            "100%|██████████| 13/13 [00:03<00:00,  4.33it/s, loss=0.231, iou=0.0377]\n"
          ]
        },
        {
          "metadata": {
            "tags": null
          },
          "name": "stdout",
          "output_type": "stream",
          "text": [
            "loss 0.2219 - iou 0.1927 - val_loss 0.2313 - val_iou 0.0377\n",
            "Epoch [22/100]\n"
          ]
        },
        {
          "metadata": {
            "tags": null
          },
          "name": "stderr",
          "output_type": "stream",
          "text": [
            "100%|██████████| 48/48 [00:23<00:00,  2.02it/s, loss=0.221, iou=0.236]\n",
            "100%|██████████| 13/13 [00:02<00:00,  4.38it/s, loss=0.287, iou=0.31]\n"
          ]
        },
        {
          "metadata": {
            "tags": null
          },
          "name": "stdout",
          "output_type": "stream",
          "text": [
            "loss 0.2213 - iou 0.2363 - val_loss 0.2870 - val_iou 0.3097\n",
            "Epoch [23/100]\n"
          ]
        },
        {
          "metadata": {
            "tags": null
          },
          "name": "stderr",
          "output_type": "stream",
          "text": [
            "100%|██████████| 48/48 [00:23<00:00,  2.03it/s, loss=0.224, iou=0.229]\n",
            "100%|██████████| 13/13 [00:02<00:00,  4.37it/s, loss=0.235, iou=0.0857]\n"
          ]
        },
        {
          "metadata": {
            "tags": null
          },
          "name": "stdout",
          "output_type": "stream",
          "text": [
            "loss 0.2237 - iou 0.2295 - val_loss 0.2349 - val_iou 0.0857\n",
            "Epoch [24/100]\n"
          ]
        },
        {
          "metadata": {
            "tags": null
          },
          "name": "stderr",
          "output_type": "stream",
          "text": [
            "100%|██████████| 48/48 [00:23<00:00,  2.01it/s, loss=0.222, iou=0.212]\n",
            "100%|██████████| 13/13 [00:02<00:00,  4.45it/s, loss=0.367, iou=0.166]\n"
          ]
        },
        {
          "metadata": {
            "tags": null
          },
          "name": "stdout",
          "output_type": "stream",
          "text": [
            "loss 0.2224 - iou 0.2123 - val_loss 0.3669 - val_iou 0.1663\n",
            "Epoch [25/100]\n"
          ]
        },
        {
          "metadata": {
            "tags": null
          },
          "name": "stderr",
          "output_type": "stream",
          "text": [
            "100%|██████████| 48/48 [00:23<00:00,  2.02it/s, loss=0.221, iou=0.242]\n",
            "100%|██████████| 13/13 [00:03<00:00,  4.27it/s, loss=0.366, iou=0.118]\n"
          ]
        },
        {
          "metadata": {
            "tags": null
          },
          "name": "stdout",
          "output_type": "stream",
          "text": [
            "loss 0.2210 - iou 0.2422 - val_loss 0.3663 - val_iou 0.1181\n",
            "Epoch [26/100]\n"
          ]
        },
        {
          "metadata": {
            "tags": null
          },
          "name": "stderr",
          "output_type": "stream",
          "text": [
            "100%|██████████| 48/48 [00:23<00:00,  2.02it/s, loss=0.222, iou=0.235]\n",
            "100%|██████████| 13/13 [00:03<00:00,  4.32it/s, loss=0.244, iou=0.108]\n"
          ]
        },
        {
          "metadata": {
            "tags": null
          },
          "name": "stdout",
          "output_type": "stream",
          "text": [
            "loss 0.2216 - iou 0.2351 - val_loss 0.2438 - val_iou 0.1080\n",
            "Epoch [27/100]\n"
          ]
        },
        {
          "metadata": {
            "tags": null
          },
          "name": "stderr",
          "output_type": "stream",
          "text": [
            "100%|██████████| 48/48 [00:23<00:00,  2.02it/s, loss=0.219, iou=0.25]\n",
            "100%|██████████| 13/13 [00:02<00:00,  4.45it/s, loss=0.229, iou=0.417]\n"
          ]
        },
        {
          "metadata": {
            "tags": null
          },
          "name": "stdout",
          "output_type": "stream",
          "text": [
            "loss 0.2185 - iou 0.2499 - val_loss 0.2288 - val_iou 0.4172\n",
            "=> saved best model\n",
            "Epoch [28/100]\n"
          ]
        },
        {
          "metadata": {
            "tags": null
          },
          "name": "stderr",
          "output_type": "stream",
          "text": [
            "100%|██████████| 48/48 [00:23<00:00,  2.01it/s, loss=0.216, iou=0.248]\n",
            "100%|██████████| 13/13 [00:02<00:00,  4.35it/s, loss=0.347, iou=0.0396]\n"
          ]
        },
        {
          "metadata": {
            "tags": null
          },
          "name": "stdout",
          "output_type": "stream",
          "text": [
            "loss 0.2155 - iou 0.2477 - val_loss 0.3471 - val_iou 0.0396\n",
            "Epoch [29/100]\n"
          ]
        },
        {
          "metadata": {
            "tags": null
          },
          "name": "stderr",
          "output_type": "stream",
          "text": [
            "100%|██████████| 48/48 [00:23<00:00,  2.01it/s, loss=0.216, iou=0.278]\n",
            "100%|██████████| 13/13 [00:02<00:00,  4.41it/s, loss=0.491, iou=0.175]\n"
          ]
        },
        {
          "metadata": {
            "tags": null
          },
          "name": "stdout",
          "output_type": "stream",
          "text": [
            "loss 0.2160 - iou 0.2780 - val_loss 0.4906 - val_iou 0.1753\n",
            "Epoch [30/100]\n"
          ]
        },
        {
          "metadata": {
            "tags": null
          },
          "name": "stderr",
          "output_type": "stream",
          "text": [
            "100%|██████████| 48/48 [00:23<00:00,  2.02it/s, loss=0.212, iou=0.297]\n",
            "100%|██████████| 13/13 [00:03<00:00,  4.22it/s, loss=0.3, iou=0.0579]\n"
          ]
        },
        {
          "metadata": {
            "tags": null
          },
          "name": "stdout",
          "output_type": "stream",
          "text": [
            "loss 0.2124 - iou 0.2968 - val_loss 0.2996 - val_iou 0.0579\n",
            "Epoch [31/100]\n"
          ]
        },
        {
          "metadata": {
            "tags": null
          },
          "name": "stderr",
          "output_type": "stream",
          "text": [
            "100%|██████████| 48/48 [00:24<00:00,  1.99it/s, loss=0.212, iou=0.305]\n",
            "100%|██████████| 13/13 [00:03<00:00,  4.28it/s, loss=0.344, iou=0.217]\n"
          ]
        },
        {
          "metadata": {
            "tags": null
          },
          "name": "stdout",
          "output_type": "stream",
          "text": [
            "loss 0.2118 - iou 0.3055 - val_loss 0.3443 - val_iou 0.2169\n",
            "Epoch [32/100]\n"
          ]
        },
        {
          "metadata": {
            "tags": null
          },
          "name": "stderr",
          "output_type": "stream",
          "text": [
            "100%|██████████| 48/48 [00:23<00:00,  2.01it/s, loss=0.205, iou=0.351]\n",
            "100%|██████████| 13/13 [00:02<00:00,  4.35it/s, loss=0.237, iou=0.365]\n"
          ]
        },
        {
          "metadata": {
            "tags": null
          },
          "name": "stdout",
          "output_type": "stream",
          "text": [
            "loss 0.2054 - iou 0.3511 - val_loss 0.2370 - val_iou 0.3651\n",
            "Epoch [33/100]\n"
          ]
        },
        {
          "metadata": {
            "tags": null
          },
          "name": "stderr",
          "output_type": "stream",
          "text": [
            "100%|██████████| 48/48 [00:23<00:00,  2.02it/s, loss=0.207, iou=0.319]\n",
            "100%|██████████| 13/13 [00:02<00:00,  4.35it/s, loss=0.242, iou=0.107]\n"
          ]
        },
        {
          "metadata": {
            "tags": null
          },
          "name": "stdout",
          "output_type": "stream",
          "text": [
            "loss 0.2071 - iou 0.3192 - val_loss 0.2421 - val_iou 0.1072\n",
            "Epoch [34/100]\n"
          ]
        },
        {
          "metadata": {
            "tags": null
          },
          "name": "stderr",
          "output_type": "stream",
          "text": [
            "100%|██████████| 48/48 [00:23<00:00,  2.02it/s, loss=0.204, iou=0.355]\n",
            "100%|██████████| 13/13 [00:03<00:00,  4.29it/s, loss=0.557, iou=0.164]\n"
          ]
        },
        {
          "metadata": {
            "tags": null
          },
          "name": "stdout",
          "output_type": "stream",
          "text": [
            "loss 0.2042 - iou 0.3551 - val_loss 0.5566 - val_iou 0.1642\n",
            "Epoch [35/100]\n"
          ]
        },
        {
          "metadata": {
            "tags": null
          },
          "name": "stderr",
          "output_type": "stream",
          "text": [
            "100%|██████████| 48/48 [00:23<00:00,  2.01it/s, loss=0.207, iou=0.358]\n",
            "100%|██████████| 13/13 [00:03<00:00,  4.30it/s, loss=0.279, iou=1.79e-10]\n"
          ]
        },
        {
          "metadata": {
            "tags": null
          },
          "name": "stdout",
          "output_type": "stream",
          "text": [
            "loss 0.2068 - iou 0.3577 - val_loss 0.2789 - val_iou 0.0000\n",
            "Epoch [36/100]\n"
          ]
        },
        {
          "metadata": {
            "tags": null
          },
          "name": "stderr",
          "output_type": "stream",
          "text": [
            "100%|██████████| 48/48 [00:23<00:00,  2.01it/s, loss=0.2, iou=0.379]\n",
            "100%|██████████| 13/13 [00:03<00:00,  4.32it/s, loss=0.225, iou=0.345]\n"
          ]
        },
        {
          "metadata": {
            "tags": null
          },
          "name": "stdout",
          "output_type": "stream",
          "text": [
            "loss 0.2001 - iou 0.3795 - val_loss 0.2247 - val_iou 0.3446\n",
            "Epoch [37/100]\n"
          ]
        },
        {
          "metadata": {
            "tags": null
          },
          "name": "stderr",
          "output_type": "stream",
          "text": [
            "100%|██████████| 48/48 [00:23<00:00,  2.01it/s, loss=0.204, iou=0.39]\n",
            "100%|██████████| 13/13 [00:03<00:00,  4.32it/s, loss=0.615, iou=0.171]\n"
          ]
        },
        {
          "metadata": {
            "tags": null
          },
          "name": "stdout",
          "output_type": "stream",
          "text": [
            "loss 0.2041 - iou 0.3903 - val_loss 0.6152 - val_iou 0.1706\n",
            "Epoch [38/100]\n"
          ]
        },
        {
          "metadata": {
            "tags": null
          },
          "name": "stderr",
          "output_type": "stream",
          "text": [
            "100%|██████████| 48/48 [00:23<00:00,  2.01it/s, loss=0.2, iou=0.384]\n",
            "100%|██████████| 13/13 [00:03<00:00,  4.30it/s, loss=0.313, iou=1.79e-10]\n"
          ]
        },
        {
          "metadata": {
            "tags": null
          },
          "name": "stdout",
          "output_type": "stream",
          "text": [
            "loss 0.1997 - iou 0.3844 - val_loss 0.3129 - val_iou 0.0000\n",
            "Epoch [39/100]\n"
          ]
        },
        {
          "metadata": {
            "tags": null
          },
          "name": "stderr",
          "output_type": "stream",
          "text": [
            "100%|██████████| 48/48 [00:23<00:00,  2.02it/s, loss=0.197, iou=0.394]\n",
            "100%|██████████| 13/13 [00:02<00:00,  4.38it/s, loss=0.268, iou=0.377]\n"
          ]
        },
        {
          "metadata": {
            "tags": null
          },
          "name": "stdout",
          "output_type": "stream",
          "text": [
            "loss 0.1975 - iou 0.3938 - val_loss 0.2682 - val_iou 0.3774\n",
            "Epoch [40/100]\n"
          ]
        },
        {
          "metadata": {
            "tags": null
          },
          "name": "stderr",
          "output_type": "stream",
          "text": [
            "100%|██████████| 48/48 [00:23<00:00,  2.02it/s, loss=0.198, iou=0.404]\n",
            "100%|██████████| 13/13 [00:03<00:00,  4.30it/s, loss=0.458, iou=0.164]\n"
          ]
        },
        {
          "metadata": {
            "tags": null
          },
          "name": "stdout",
          "output_type": "stream",
          "text": [
            "loss 0.1977 - iou 0.4042 - val_loss 0.4583 - val_iou 0.1638\n",
            "Epoch [41/100]\n"
          ]
        },
        {
          "metadata": {
            "tags": null
          },
          "name": "stderr",
          "output_type": "stream",
          "text": [
            "100%|██████████| 48/48 [00:23<00:00,  2.01it/s, loss=0.194, iou=0.428]\n",
            "100%|██████████| 13/13 [00:03<00:00,  4.32it/s, loss=0.295, iou=0.0398]\n"
          ]
        },
        {
          "metadata": {
            "tags": null
          },
          "name": "stdout",
          "output_type": "stream",
          "text": [
            "loss 0.1944 - iou 0.4279 - val_loss 0.2953 - val_iou 0.0398\n",
            "Epoch [42/100]\n"
          ]
        },
        {
          "metadata": {
            "tags": null
          },
          "name": "stderr",
          "output_type": "stream",
          "text": [
            "100%|██████████| 48/48 [00:23<00:00,  2.02it/s, loss=0.192, iou=0.442]\n",
            "100%|██████████| 13/13 [00:03<00:00,  4.32it/s, loss=0.222, iou=0.25]\n"
          ]
        },
        {
          "metadata": {
            "tags": null
          },
          "name": "stdout",
          "output_type": "stream",
          "text": [
            "loss 0.1916 - iou 0.4418 - val_loss 0.2219 - val_iou 0.2497\n",
            "Epoch [43/100]\n"
          ]
        },
        {
          "metadata": {
            "tags": null
          },
          "name": "stderr",
          "output_type": "stream",
          "text": [
            "100%|██████████| 48/48 [00:23<00:00,  2.02it/s, loss=0.19, iou=0.454]\n",
            "100%|██████████| 13/13 [00:02<00:00,  4.37it/s, loss=0.221, iou=0.212]\n"
          ]
        },
        {
          "metadata": {
            "tags": null
          },
          "name": "stdout",
          "output_type": "stream",
          "text": [
            "loss 0.1905 - iou 0.4537 - val_loss 0.2212 - val_iou 0.2124\n",
            "Epoch [44/100]\n"
          ]
        },
        {
          "metadata": {
            "tags": null
          },
          "name": "stderr",
          "output_type": "stream",
          "text": [
            "100%|██████████| 48/48 [00:23<00:00,  2.02it/s, loss=0.19, iou=0.455]\n",
            "100%|██████████| 13/13 [00:02<00:00,  4.40it/s, loss=0.442, iou=0.267]\n"
          ]
        },
        {
          "metadata": {
            "tags": null
          },
          "name": "stdout",
          "output_type": "stream",
          "text": [
            "loss 0.1903 - iou 0.4547 - val_loss 0.4418 - val_iou 0.2670\n",
            "Epoch [45/100]\n"
          ]
        },
        {
          "metadata": {
            "tags": null
          },
          "name": "stderr",
          "output_type": "stream",
          "text": [
            "100%|██████████| 48/48 [00:23<00:00,  2.01it/s, loss=0.189, iou=0.462]\n",
            "100%|██████████| 13/13 [00:03<00:00,  4.28it/s, loss=0.249, iou=0.404]\n"
          ]
        },
        {
          "metadata": {
            "tags": null
          },
          "name": "stdout",
          "output_type": "stream",
          "text": [
            "loss 0.1886 - iou 0.4622 - val_loss 0.2495 - val_iou 0.4037\n",
            "Epoch [46/100]\n"
          ]
        },
        {
          "metadata": {
            "tags": null
          },
          "name": "stderr",
          "output_type": "stream",
          "text": [
            "100%|██████████| 48/48 [00:23<00:00,  2.02it/s, loss=0.186, iou=0.478]\n",
            "100%|██████████| 13/13 [00:03<00:00,  4.31it/s, loss=0.237, iou=0.119]\n"
          ]
        },
        {
          "metadata": {
            "tags": null
          },
          "name": "stdout",
          "output_type": "stream",
          "text": [
            "loss 0.1857 - iou 0.4785 - val_loss 0.2368 - val_iou 0.1194\n",
            "Epoch [47/100]\n"
          ]
        },
        {
          "metadata": {
            "tags": null
          },
          "name": "stderr",
          "output_type": "stream",
          "text": [
            "100%|██████████| 48/48 [00:23<00:00,  2.02it/s, loss=0.182, iou=0.509]\n",
            "100%|██████████| 13/13 [00:03<00:00,  4.32it/s, loss=0.291, iou=1.79e-10]\n"
          ]
        },
        {
          "metadata": {
            "tags": null
          },
          "name": "stdout",
          "output_type": "stream",
          "text": [
            "loss 0.1819 - iou 0.5095 - val_loss 0.2905 - val_iou 0.0000\n",
            "Epoch [48/100]\n"
          ]
        },
        {
          "metadata": {
            "tags": null
          },
          "name": "stderr",
          "output_type": "stream",
          "text": [
            "100%|██████████| 48/48 [00:23<00:00,  2.01it/s, loss=0.186, iou=0.484]\n",
            "100%|██████████| 13/13 [00:02<00:00,  4.36it/s, loss=0.298, iou=0.297]\n"
          ]
        },
        {
          "metadata": {
            "tags": null
          },
          "name": "stdout",
          "output_type": "stream",
          "text": [
            "loss 0.1862 - iou 0.4836 - val_loss 0.2983 - val_iou 0.2973\n",
            "Epoch [49/100]\n"
          ]
        },
        {
          "metadata": {
            "tags": null
          },
          "name": "stderr",
          "output_type": "stream",
          "text": [
            "100%|██████████| 48/48 [00:23<00:00,  2.02it/s, loss=0.184, iou=0.499]\n",
            "100%|██████████| 13/13 [00:03<00:00,  4.30it/s, loss=0.304, iou=1.79e-10]\n"
          ]
        },
        {
          "metadata": {
            "tags": null
          },
          "name": "stdout",
          "output_type": "stream",
          "text": [
            "loss 0.1835 - iou 0.4993 - val_loss 0.3038 - val_iou 0.0000\n",
            "Epoch [50/100]\n"
          ]
        },
        {
          "metadata": {
            "tags": null
          },
          "name": "stderr",
          "output_type": "stream",
          "text": [
            "100%|██████████| 48/48 [00:23<00:00,  2.03it/s, loss=0.178, iou=0.526]\n",
            "100%|██████████| 13/13 [00:03<00:00,  4.30it/s, loss=0.247, iou=0.0818]\n"
          ]
        },
        {
          "metadata": {
            "tags": null
          },
          "name": "stdout",
          "output_type": "stream",
          "text": [
            "loss 0.1777 - iou 0.5258 - val_loss 0.2467 - val_iou 0.0818\n",
            "Epoch [51/100]\n"
          ]
        },
        {
          "metadata": {
            "tags": null
          },
          "name": "stderr",
          "output_type": "stream",
          "text": [
            "100%|██████████| 48/48 [00:23<00:00,  2.03it/s, loss=0.175, iou=0.538]\n",
            "100%|██████████| 13/13 [00:03<00:00,  4.32it/s, loss=0.326, iou=1.79e-10]\n"
          ]
        },
        {
          "metadata": {
            "tags": null
          },
          "name": "stdout",
          "output_type": "stream",
          "text": [
            "loss 0.1750 - iou 0.5376 - val_loss 0.3256 - val_iou 0.0000\n",
            "Epoch [52/100]\n"
          ]
        },
        {
          "metadata": {
            "tags": null
          },
          "name": "stderr",
          "output_type": "stream",
          "text": [
            "100%|██████████| 48/48 [00:23<00:00,  2.02it/s, loss=0.181, iou=0.535]\n",
            "100%|██████████| 13/13 [00:02<00:00,  4.35it/s, loss=0.227, iou=0.284]\n"
          ]
        },
        {
          "metadata": {
            "tags": null
          },
          "name": "stdout",
          "output_type": "stream",
          "text": [
            "loss 0.1808 - iou 0.5352 - val_loss 0.2272 - val_iou 0.2836\n",
            "Epoch [53/100]\n"
          ]
        },
        {
          "metadata": {
            "tags": null
          },
          "name": "stderr",
          "output_type": "stream",
          "text": [
            "100%|██████████| 48/48 [00:23<00:00,  2.03it/s, loss=0.173, iou=0.553]\n",
            "100%|██████████| 13/13 [00:02<00:00,  4.38it/s, loss=0.336, iou=1.79e-10]\n"
          ]
        },
        {
          "metadata": {
            "tags": null
          },
          "name": "stdout",
          "output_type": "stream",
          "text": [
            "loss 0.1734 - iou 0.5529 - val_loss 0.3356 - val_iou 0.0000\n",
            "Epoch [54/100]\n"
          ]
        },
        {
          "metadata": {
            "tags": null
          },
          "name": "stderr",
          "output_type": "stream",
          "text": [
            "100%|██████████| 48/48 [00:23<00:00,  2.01it/s, loss=0.176, iou=0.536]\n",
            "100%|██████████| 13/13 [00:02<00:00,  4.44it/s, loss=0.212, iou=0.349]\n"
          ]
        },
        {
          "metadata": {
            "tags": null
          },
          "name": "stdout",
          "output_type": "stream",
          "text": [
            "loss 0.1759 - iou 0.5355 - val_loss 0.2115 - val_iou 0.3490\n",
            "Epoch [55/100]\n"
          ]
        },
        {
          "metadata": {
            "tags": null
          },
          "name": "stderr",
          "output_type": "stream",
          "text": [
            "100%|██████████| 48/48 [00:23<00:00,  2.03it/s, loss=0.174, iou=0.533]\n",
            "100%|██████████| 13/13 [00:02<00:00,  4.38it/s, loss=0.196, iou=0.436]\n"
          ]
        },
        {
          "metadata": {
            "tags": null
          },
          "name": "stdout",
          "output_type": "stream",
          "text": [
            "loss 0.1742 - iou 0.5330 - val_loss 0.1963 - val_iou 0.4362\n",
            "=> saved best model\n",
            "Epoch [56/100]\n"
          ]
        },
        {
          "metadata": {
            "tags": null
          },
          "name": "stderr",
          "output_type": "stream",
          "text": [
            "100%|██████████| 48/48 [00:23<00:00,  2.02it/s, loss=0.174, iou=0.573]\n",
            "100%|██████████| 13/13 [00:03<00:00,  4.33it/s, loss=0.244, iou=0.122]\n"
          ]
        },
        {
          "metadata": {
            "tags": null
          },
          "name": "stdout",
          "output_type": "stream",
          "text": [
            "loss 0.1738 - iou 0.5726 - val_loss 0.2437 - val_iou 0.1223\n",
            "Epoch [57/100]\n"
          ]
        },
        {
          "metadata": {
            "tags": null
          },
          "name": "stderr",
          "output_type": "stream",
          "text": [
            "100%|██████████| 48/48 [00:23<00:00,  2.03it/s, loss=0.169, iou=0.579]\n",
            "100%|██████████| 13/13 [00:02<00:00,  4.38it/s, loss=0.531, iou=0.223]\n"
          ]
        },
        {
          "metadata": {
            "tags": null
          },
          "name": "stdout",
          "output_type": "stream",
          "text": [
            "loss 0.1685 - iou 0.5793 - val_loss 0.5314 - val_iou 0.2227\n",
            "Epoch [58/100]\n"
          ]
        },
        {
          "metadata": {
            "tags": null
          },
          "name": "stderr",
          "output_type": "stream",
          "text": [
            "100%|██████████| 48/48 [00:23<00:00,  2.03it/s, loss=0.175, iou=0.544]\n",
            "100%|██████████| 13/13 [00:03<00:00,  4.31it/s, loss=0.326, iou=0.00598]\n"
          ]
        },
        {
          "metadata": {
            "tags": null
          },
          "name": "stdout",
          "output_type": "stream",
          "text": [
            "loss 0.1751 - iou 0.5444 - val_loss 0.3261 - val_iou 0.0060\n",
            "Epoch [59/100]\n"
          ]
        },
        {
          "metadata": {
            "tags": null
          },
          "name": "stderr",
          "output_type": "stream",
          "text": [
            "100%|██████████| 48/48 [00:23<00:00,  2.02it/s, loss=0.169, iou=0.589]\n",
            "100%|██████████| 13/13 [00:02<00:00,  4.37it/s, loss=0.308, iou=1.79e-10]\n"
          ]
        },
        {
          "metadata": {
            "tags": null
          },
          "name": "stdout",
          "output_type": "stream",
          "text": [
            "loss 0.1689 - iou 0.5887 - val_loss 0.3076 - val_iou 0.0000\n",
            "Epoch [60/100]\n"
          ]
        },
        {
          "metadata": {
            "tags": null
          },
          "name": "stderr",
          "output_type": "stream",
          "text": [
            "100%|██████████| 48/48 [00:23<00:00,  2.03it/s, loss=0.169, iou=0.577]\n",
            "100%|██████████| 13/13 [00:03<00:00,  4.24it/s, loss=0.259, iou=0.0868]\n"
          ]
        },
        {
          "metadata": {
            "tags": null
          },
          "name": "stdout",
          "output_type": "stream",
          "text": [
            "loss 0.1687 - iou 0.5773 - val_loss 0.2593 - val_iou 0.0868\n",
            "Epoch [61/100]\n"
          ]
        },
        {
          "metadata": {
            "tags": null
          },
          "name": "stderr",
          "output_type": "stream",
          "text": [
            "100%|██████████| 48/48 [00:23<00:00,  2.02it/s, loss=0.166, iou=0.592]\n",
            "100%|██████████| 13/13 [00:03<00:00,  4.33it/s, loss=0.317, iou=0.00486]\n"
          ]
        },
        {
          "metadata": {
            "tags": null
          },
          "name": "stdout",
          "output_type": "stream",
          "text": [
            "loss 0.1662 - iou 0.5918 - val_loss 0.3174 - val_iou 0.0049\n",
            "Epoch [62/100]\n"
          ]
        },
        {
          "metadata": {
            "tags": null
          },
          "name": "stderr",
          "output_type": "stream",
          "text": [
            "100%|██████████| 48/48 [00:23<00:00,  2.04it/s, loss=0.167, iou=0.584]\n",
            "100%|██████████| 13/13 [00:02<00:00,  4.34it/s, loss=0.26, iou=0.135]\n"
          ]
        },
        {
          "metadata": {
            "tags": null
          },
          "name": "stdout",
          "output_type": "stream",
          "text": [
            "loss 0.1671 - iou 0.5843 - val_loss 0.2602 - val_iou 0.1349\n",
            "Epoch [63/100]\n"
          ]
        },
        {
          "metadata": {
            "tags": null
          },
          "name": "stderr",
          "output_type": "stream",
          "text": [
            "100%|██████████| 48/48 [00:23<00:00,  2.02it/s, loss=0.165, iou=0.605]\n",
            "100%|██████████| 13/13 [00:02<00:00,  4.40it/s, loss=0.227, iou=0.345]\n"
          ]
        },
        {
          "metadata": {
            "tags": null
          },
          "name": "stdout",
          "output_type": "stream",
          "text": [
            "loss 0.1646 - iou 0.6049 - val_loss 0.2270 - val_iou 0.3454\n",
            "Epoch [64/100]\n"
          ]
        },
        {
          "metadata": {
            "tags": null
          },
          "name": "stderr",
          "output_type": "stream",
          "text": [
            "100%|██████████| 48/48 [00:23<00:00,  2.02it/s, loss=0.164, iou=0.622]\n",
            "100%|██████████| 13/13 [00:02<00:00,  4.39it/s, loss=0.31, iou=0.281]\n"
          ]
        },
        {
          "metadata": {
            "tags": null
          },
          "name": "stdout",
          "output_type": "stream",
          "text": [
            "loss 0.1635 - iou 0.6224 - val_loss 0.3100 - val_iou 0.2813\n",
            "Epoch [65/100]\n"
          ]
        },
        {
          "metadata": {
            "tags": null
          },
          "name": "stderr",
          "output_type": "stream",
          "text": [
            "100%|██████████| 48/48 [00:23<00:00,  2.02it/s, loss=0.161, iou=0.626]\n",
            "100%|██████████| 13/13 [00:03<00:00,  4.30it/s, loss=0.23, iou=0.29]\n"
          ]
        },
        {
          "metadata": {
            "tags": null
          },
          "name": "stdout",
          "output_type": "stream",
          "text": [
            "loss 0.1611 - iou 0.6257 - val_loss 0.2305 - val_iou 0.2897\n",
            "Epoch [66/100]\n"
          ]
        },
        {
          "metadata": {
            "tags": null
          },
          "name": "stderr",
          "output_type": "stream",
          "text": [
            "100%|██████████| 48/48 [00:23<00:00,  2.03it/s, loss=0.161, iou=0.631]\n",
            "100%|██████████| 13/13 [00:02<00:00,  4.43it/s, loss=0.282, iou=0.382]\n"
          ]
        },
        {
          "metadata": {
            "tags": null
          },
          "name": "stdout",
          "output_type": "stream",
          "text": [
            "loss 0.1607 - iou 0.6312 - val_loss 0.2825 - val_iou 0.3822\n",
            "Epoch [67/100]\n"
          ]
        },
        {
          "metadata": {
            "tags": null
          },
          "name": "stderr",
          "output_type": "stream",
          "text": [
            "100%|██████████| 48/48 [00:23<00:00,  2.03it/s, loss=0.16, iou=0.634]\n",
            "100%|██████████| 13/13 [00:03<00:00,  4.17it/s, loss=0.429, iou=1.79e-10]\n"
          ]
        },
        {
          "metadata": {
            "tags": null
          },
          "name": "stdout",
          "output_type": "stream",
          "text": [
            "loss 0.1599 - iou 0.6335 - val_loss 0.4287 - val_iou 0.0000\n",
            "Epoch [68/100]\n"
          ]
        },
        {
          "metadata": {
            "tags": null
          },
          "name": "stderr",
          "output_type": "stream",
          "text": [
            "100%|██████████| 48/48 [00:23<00:00,  2.02it/s, loss=0.161, iou=0.636]\n",
            "100%|██████████| 13/13 [00:02<00:00,  4.44it/s, loss=0.329, iou=1.79e-10]\n"
          ]
        },
        {
          "metadata": {
            "tags": null
          },
          "name": "stdout",
          "output_type": "stream",
          "text": [
            "loss 0.1613 - iou 0.6357 - val_loss 0.3293 - val_iou 0.0000\n",
            "Epoch [69/100]\n"
          ]
        },
        {
          "metadata": {
            "tags": null
          },
          "name": "stderr",
          "output_type": "stream",
          "text": [
            "100%|██████████| 48/48 [00:23<00:00,  2.02it/s, loss=0.153, iou=0.663]\n",
            "100%|██████████| 13/13 [00:02<00:00,  4.36it/s, loss=0.209, iou=0.381]\n"
          ]
        },
        {
          "metadata": {
            "tags": null
          },
          "name": "stdout",
          "output_type": "stream",
          "text": [
            "loss 0.1531 - iou 0.6631 - val_loss 0.2092 - val_iou 0.3811\n",
            "Epoch [70/100]\n"
          ]
        },
        {
          "metadata": {
            "tags": null
          },
          "name": "stderr",
          "output_type": "stream",
          "text": [
            "100%|██████████| 48/48 [00:23<00:00,  2.02it/s, loss=0.162, iou=0.638]\n",
            "100%|██████████| 13/13 [00:02<00:00,  4.38it/s, loss=0.179, iou=0.583]\n"
          ]
        },
        {
          "metadata": {
            "tags": null
          },
          "name": "stdout",
          "output_type": "stream",
          "text": [
            "loss 0.1619 - iou 0.6384 - val_loss 0.1793 - val_iou 0.5825\n",
            "=> saved best model\n",
            "Epoch [71/100]\n"
          ]
        },
        {
          "metadata": {
            "tags": null
          },
          "name": "stderr",
          "output_type": "stream",
          "text": [
            "100%|██████████| 48/48 [00:23<00:00,  2.03it/s, loss=0.159, iou=0.641]\n",
            "100%|██████████| 13/13 [00:02<00:00,  4.36it/s, loss=0.353, iou=1.79e-10]\n"
          ]
        },
        {
          "metadata": {
            "tags": null
          },
          "name": "stdout",
          "output_type": "stream",
          "text": [
            "loss 0.1594 - iou 0.6411 - val_loss 0.3531 - val_iou 0.0000\n",
            "Epoch [72/100]\n"
          ]
        },
        {
          "metadata": {
            "tags": null
          },
          "name": "stderr",
          "output_type": "stream",
          "text": [
            "100%|██████████| 48/48 [00:23<00:00,  2.02it/s, loss=0.154, iou=0.663]\n",
            "100%|██████████| 13/13 [00:03<00:00,  4.16it/s, loss=0.348, iou=1.79e-10]\n"
          ]
        },
        {
          "metadata": {
            "tags": null
          },
          "name": "stdout",
          "output_type": "stream",
          "text": [
            "loss 0.1541 - iou 0.6626 - val_loss 0.3475 - val_iou 0.0000\n",
            "Epoch [73/100]\n"
          ]
        },
        {
          "metadata": {
            "tags": null
          },
          "name": "stderr",
          "output_type": "stream",
          "text": [
            "100%|██████████| 48/48 [00:23<00:00,  2.02it/s, loss=0.16, iou=0.642]\n",
            "100%|██████████| 13/13 [00:03<00:00,  4.31it/s, loss=0.231, iou=0.249]\n"
          ]
        },
        {
          "metadata": {
            "tags": null
          },
          "name": "stdout",
          "output_type": "stream",
          "text": [
            "loss 0.1595 - iou 0.6425 - val_loss 0.2310 - val_iou 0.2488\n",
            "Epoch [74/100]\n"
          ]
        },
        {
          "metadata": {
            "tags": null
          },
          "name": "stderr",
          "output_type": "stream",
          "text": [
            "100%|██████████| 48/48 [00:23<00:00,  2.03it/s, loss=0.15, iou=0.688]\n",
            "100%|██████████| 13/13 [00:03<00:00,  4.31it/s, loss=0.199, iou=0.451]\n"
          ]
        },
        {
          "metadata": {
            "tags": null
          },
          "name": "stdout",
          "output_type": "stream",
          "text": [
            "loss 0.1497 - iou 0.6876 - val_loss 0.1994 - val_iou 0.4513\n",
            "Epoch [75/100]\n"
          ]
        },
        {
          "metadata": {
            "tags": null
          },
          "name": "stderr",
          "output_type": "stream",
          "text": [
            "100%|██████████| 48/48 [00:23<00:00,  2.03it/s, loss=0.152, iou=0.69]\n",
            "100%|██████████| 13/13 [00:02<00:00,  4.41it/s, loss=0.186, iou=0.561]\n"
          ]
        },
        {
          "metadata": {
            "tags": null
          },
          "name": "stdout",
          "output_type": "stream",
          "text": [
            "loss 0.1523 - iou 0.6902 - val_loss 0.1861 - val_iou 0.5610\n",
            "Epoch [76/100]\n"
          ]
        },
        {
          "metadata": {
            "tags": null
          },
          "name": "stderr",
          "output_type": "stream",
          "text": [
            "100%|██████████| 48/48 [00:23<00:00,  2.03it/s, loss=0.151, iou=0.687]\n",
            "100%|██████████| 13/13 [00:02<00:00,  4.37it/s, loss=0.317, iou=0.0477]\n"
          ]
        },
        {
          "metadata": {
            "tags": null
          },
          "name": "stdout",
          "output_type": "stream",
          "text": [
            "loss 0.1507 - iou 0.6870 - val_loss 0.3169 - val_iou 0.0477\n",
            "Epoch [77/100]\n"
          ]
        },
        {
          "metadata": {
            "tags": null
          },
          "name": "stderr",
          "output_type": "stream",
          "text": [
            "100%|██████████| 48/48 [00:23<00:00,  2.02it/s, loss=0.152, iou=0.69]\n",
            "100%|██████████| 13/13 [00:02<00:00,  4.38it/s, loss=0.313, iou=1.79e-10]\n"
          ]
        },
        {
          "metadata": {
            "tags": null
          },
          "name": "stdout",
          "output_type": "stream",
          "text": [
            "loss 0.1517 - iou 0.6903 - val_loss 0.3133 - val_iou 0.0000\n",
            "Epoch [78/100]\n"
          ]
        },
        {
          "metadata": {
            "tags": null
          },
          "name": "stderr",
          "output_type": "stream",
          "text": [
            "100%|██████████| 48/48 [00:23<00:00,  2.02it/s, loss=0.147, iou=0.699]\n",
            "100%|██████████| 13/13 [00:03<00:00,  4.28it/s, loss=0.193, iou=0.342]\n"
          ]
        },
        {
          "metadata": {
            "tags": null
          },
          "name": "stdout",
          "output_type": "stream",
          "text": [
            "loss 0.1469 - iou 0.6987 - val_loss 0.1928 - val_iou 0.3424\n",
            "Epoch [79/100]\n"
          ]
        },
        {
          "metadata": {
            "tags": null
          },
          "name": "stderr",
          "output_type": "stream",
          "text": [
            "100%|██████████| 48/48 [00:23<00:00,  2.03it/s, loss=0.147, iou=0.701]\n",
            "100%|██████████| 13/13 [00:02<00:00,  4.36it/s, loss=0.306, iou=0.0412]\n"
          ]
        },
        {
          "metadata": {
            "tags": null
          },
          "name": "stdout",
          "output_type": "stream",
          "text": [
            "loss 0.1468 - iou 0.7015 - val_loss 0.3063 - val_iou 0.0412\n",
            "Epoch [80/100]\n"
          ]
        },
        {
          "metadata": {
            "tags": null
          },
          "name": "stderr",
          "output_type": "stream",
          "text": [
            "100%|██████████| 48/48 [00:23<00:00,  2.03it/s, loss=0.154, iou=0.671]\n",
            "100%|██████████| 13/13 [00:03<00:00,  4.32it/s, loss=0.299, iou=0.295]\n"
          ]
        },
        {
          "metadata": {
            "tags": null
          },
          "name": "stdout",
          "output_type": "stream",
          "text": [
            "loss 0.1539 - iou 0.6710 - val_loss 0.2985 - val_iou 0.2954\n",
            "Epoch [81/100]\n"
          ]
        },
        {
          "metadata": {
            "tags": null
          },
          "name": "stderr",
          "output_type": "stream",
          "text": [
            "100%|██████████| 48/48 [00:23<00:00,  2.03it/s, loss=0.148, iou=0.701]\n",
            "100%|██████████| 13/13 [00:02<00:00,  4.40it/s, loss=0.299, iou=0.000162]\n"
          ]
        },
        {
          "metadata": {
            "tags": null
          },
          "name": "stdout",
          "output_type": "stream",
          "text": [
            "loss 0.1479 - iou 0.7012 - val_loss 0.2995 - val_iou 0.0002\n",
            "Epoch [82/100]\n"
          ]
        },
        {
          "metadata": {
            "tags": null
          },
          "name": "stderr",
          "output_type": "stream",
          "text": [
            "100%|██████████| 48/48 [00:23<00:00,  2.03it/s, loss=0.142, iou=0.734]\n",
            "100%|██████████| 13/13 [00:02<00:00,  4.38it/s, loss=0.251, iou=0.204]\n"
          ]
        },
        {
          "metadata": {
            "tags": null
          },
          "name": "stdout",
          "output_type": "stream",
          "text": [
            "loss 0.1425 - iou 0.7339 - val_loss 0.2508 - val_iou 0.2042\n",
            "Epoch [83/100]\n"
          ]
        },
        {
          "metadata": {
            "tags": null
          },
          "name": "stderr",
          "output_type": "stream",
          "text": [
            "100%|██████████| 48/48 [00:23<00:00,  2.03it/s, loss=0.15, iou=0.689]\n",
            "100%|██████████| 13/13 [00:03<00:00,  4.30it/s, loss=0.167, iou=0.602]\n"
          ]
        },
        {
          "metadata": {
            "tags": null
          },
          "name": "stdout",
          "output_type": "stream",
          "text": [
            "loss 0.1503 - iou 0.6893 - val_loss 0.1672 - val_iou 0.6023\n",
            "=> saved best model\n",
            "Epoch [84/100]\n"
          ]
        },
        {
          "metadata": {
            "tags": null
          },
          "name": "stderr",
          "output_type": "stream",
          "text": [
            "100%|██████████| 48/48 [00:23<00:00,  2.03it/s, loss=0.144, iou=0.715]\n",
            "100%|██████████| 13/13 [00:02<00:00,  4.36it/s, loss=0.376, iou=0.00171]\n"
          ]
        },
        {
          "metadata": {
            "tags": null
          },
          "name": "stdout",
          "output_type": "stream",
          "text": [
            "loss 0.1441 - iou 0.7153 - val_loss 0.3762 - val_iou 0.0017\n",
            "Epoch [85/100]\n"
          ]
        },
        {
          "metadata": {
            "tags": null
          },
          "name": "stderr",
          "output_type": "stream",
          "text": [
            "100%|██████████| 48/48 [00:23<00:00,  2.03it/s, loss=0.144, iou=0.728]\n",
            "100%|██████████| 13/13 [00:02<00:00,  4.44it/s, loss=0.287, iou=0.207]\n"
          ]
        },
        {
          "metadata": {
            "tags": null
          },
          "name": "stdout",
          "output_type": "stream",
          "text": [
            "loss 0.1444 - iou 0.7276 - val_loss 0.2865 - val_iou 0.2068\n",
            "Epoch [86/100]\n"
          ]
        },
        {
          "metadata": {
            "tags": null
          },
          "name": "stderr",
          "output_type": "stream",
          "text": [
            "100%|██████████| 48/48 [00:23<00:00,  2.03it/s, loss=0.145, iou=0.703]\n",
            "100%|██████████| 13/13 [00:02<00:00,  4.41it/s, loss=0.277, iou=0.352]\n"
          ]
        },
        {
          "metadata": {
            "tags": null
          },
          "name": "stdout",
          "output_type": "stream",
          "text": [
            "loss 0.1447 - iou 0.7034 - val_loss 0.2774 - val_iou 0.3523\n",
            "Epoch [87/100]\n"
          ]
        },
        {
          "metadata": {
            "tags": null
          },
          "name": "stderr",
          "output_type": "stream",
          "text": [
            "100%|██████████| 48/48 [00:23<00:00,  2.03it/s, loss=0.14, iou=0.735]\n",
            "100%|██████████| 13/13 [00:02<00:00,  4.41it/s, loss=0.293, iou=1.79e-10]\n"
          ]
        },
        {
          "metadata": {
            "tags": null
          },
          "name": "stdout",
          "output_type": "stream",
          "text": [
            "loss 0.1405 - iou 0.7351 - val_loss 0.2928 - val_iou 0.0000\n",
            "Epoch [88/100]\n"
          ]
        },
        {
          "metadata": {
            "tags": null
          },
          "name": "stderr",
          "output_type": "stream",
          "text": [
            "100%|██████████| 48/48 [00:23<00:00,  2.03it/s, loss=0.145, iou=0.705]\n",
            "100%|██████████| 13/13 [00:03<00:00,  4.33it/s, loss=0.36, iou=0.0112]\n"
          ]
        },
        {
          "metadata": {
            "tags": null
          },
          "name": "stdout",
          "output_type": "stream",
          "text": [
            "loss 0.1453 - iou 0.7055 - val_loss 0.3598 - val_iou 0.0112\n",
            "Epoch [89/100]\n"
          ]
        },
        {
          "metadata": {
            "tags": null
          },
          "name": "stderr",
          "output_type": "stream",
          "text": [
            "100%|██████████| 48/48 [00:23<00:00,  2.02it/s, loss=0.14, iou=0.729]\n",
            "100%|██████████| 13/13 [00:03<00:00,  4.27it/s, loss=0.203, iou=0.415]\n"
          ]
        },
        {
          "metadata": {
            "tags": null
          },
          "name": "stdout",
          "output_type": "stream",
          "text": [
            "loss 0.1401 - iou 0.7286 - val_loss 0.2032 - val_iou 0.4155\n",
            "Epoch [90/100]\n"
          ]
        },
        {
          "metadata": {
            "tags": null
          },
          "name": "stderr",
          "output_type": "stream",
          "text": [
            "100%|██████████| 48/48 [00:23<00:00,  2.04it/s, loss=0.139, iou=0.751]\n",
            "100%|██████████| 13/13 [00:02<00:00,  4.41it/s, loss=0.351, iou=0.000378]\n"
          ]
        },
        {
          "metadata": {
            "tags": null
          },
          "name": "stdout",
          "output_type": "stream",
          "text": [
            "loss 0.1386 - iou 0.7507 - val_loss 0.3514 - val_iou 0.0004\n",
            "Epoch [91/100]\n"
          ]
        },
        {
          "metadata": {
            "tags": null
          },
          "name": "stderr",
          "output_type": "stream",
          "text": [
            "100%|██████████| 48/48 [00:23<00:00,  2.03it/s, loss=0.142, iou=0.723]\n",
            "100%|██████████| 13/13 [00:02<00:00,  4.35it/s, loss=0.228, iou=0.262]\n"
          ]
        },
        {
          "metadata": {
            "tags": null
          },
          "name": "stdout",
          "output_type": "stream",
          "text": [
            "loss 0.1419 - iou 0.7228 - val_loss 0.2277 - val_iou 0.2622\n",
            "Epoch [92/100]\n"
          ]
        },
        {
          "metadata": {
            "tags": null
          },
          "name": "stderr",
          "output_type": "stream",
          "text": [
            "100%|██████████| 48/48 [00:23<00:00,  2.03it/s, loss=0.143, iou=0.722]\n",
            "100%|██████████| 13/13 [00:02<00:00,  4.40it/s, loss=0.269, iou=0.00133]\n"
          ]
        },
        {
          "metadata": {
            "tags": null
          },
          "name": "stdout",
          "output_type": "stream",
          "text": [
            "loss 0.1435 - iou 0.7216 - val_loss 0.2687 - val_iou 0.0013\n",
            "Epoch [93/100]\n"
          ]
        },
        {
          "metadata": {
            "tags": null
          },
          "name": "stderr",
          "output_type": "stream",
          "text": [
            "100%|██████████| 48/48 [00:23<00:00,  2.03it/s, loss=0.142, iou=0.728]\n",
            "100%|██████████| 13/13 [00:02<00:00,  4.43it/s, loss=0.241, iou=0.261]\n"
          ]
        },
        {
          "metadata": {
            "tags": null
          },
          "name": "stdout",
          "output_type": "stream",
          "text": [
            "loss 0.1423 - iou 0.7280 - val_loss 0.2410 - val_iou 0.2609\n",
            "Epoch [94/100]\n"
          ]
        },
        {
          "output_type": "stream",
          "name": "stderr",
          "text": [
            "100%|██████████| 48/48 [00:23<00:00,  2.02it/s, loss=0.14, iou=0.732]\n",
            "100%|██████████| 13/13 [00:03<00:00,  4.23it/s, loss=0.499, iou=0.219]\n"
          ]
        },
        {
          "output_type": "stream",
          "name": "stdout",
          "text": [
            "loss 0.1399 - iou 0.7317 - val_loss 0.4988 - val_iou 0.2191\n",
            "Epoch [95/100]\n"
          ]
        },
        {
          "output_type": "stream",
          "name": "stderr",
          "text": [
            "100%|██████████| 48/48 [00:23<00:00,  2.03it/s, loss=0.138, iou=0.748]\n",
            "100%|██████████| 13/13 [00:03<00:00,  4.24it/s, loss=0.302, iou=0.115]\n"
          ]
        },
        {
          "output_type": "stream",
          "name": "stdout",
          "text": [
            "loss 0.1376 - iou 0.7485 - val_loss 0.3024 - val_iou 0.1148\n",
            "Epoch [96/100]\n"
          ]
        },
        {
          "output_type": "stream",
          "name": "stderr",
          "text": [
            "100%|██████████| 48/48 [00:23<00:00,  2.04it/s, loss=0.143, iou=0.723]\n",
            "100%|██████████| 13/13 [00:02<00:00,  4.37it/s, loss=0.256, iou=0.172]\n"
          ]
        },
        {
          "output_type": "stream",
          "name": "stdout",
          "text": [
            "loss 0.1427 - iou 0.7226 - val_loss 0.2556 - val_iou 0.1716\n",
            "Epoch [97/100]\n"
          ]
        },
        {
          "output_type": "stream",
          "name": "stderr",
          "text": [
            "100%|██████████| 48/48 [00:23<00:00,  2.03it/s, loss=0.14, iou=0.75]\n",
            "100%|██████████| 13/13 [00:02<00:00,  4.42it/s, loss=0.303, iou=0.115]\n"
          ]
        },
        {
          "output_type": "stream",
          "name": "stdout",
          "text": [
            "loss 0.1399 - iou 0.7503 - val_loss 0.3030 - val_iou 0.1147\n",
            "Epoch [98/100]\n"
          ]
        },
        {
          "output_type": "stream",
          "name": "stderr",
          "text": [
            "100%|██████████| 48/48 [00:23<00:00,  2.03it/s, loss=0.137, iou=0.745]\n",
            "100%|██████████| 13/13 [00:03<00:00,  4.29it/s, loss=0.29, iou=0.0456]\n"
          ]
        },
        {
          "output_type": "stream",
          "name": "stdout",
          "text": [
            "loss 0.1368 - iou 0.7452 - val_loss 0.2904 - val_iou 0.0456\n",
            "Epoch [99/100]\n"
          ]
        },
        {
          "output_type": "stream",
          "name": "stderr",
          "text": [
            "100%|██████████| 48/48 [00:23<00:00,  2.04it/s, loss=0.137, iou=0.756]\n",
            "100%|██████████| 13/13 [00:03<00:00,  4.30it/s, loss=0.204, iou=0.431]"
          ]
        },
        {
          "output_type": "stream",
          "name": "stdout",
          "text": [
            "loss 0.1368 - iou 0.7564 - val_loss 0.2042 - val_iou 0.4311\n"
          ]
        },
        {
          "output_type": "stream",
          "name": "stderr",
          "text": [
            "\n"
          ]
        }
      ],
      "source": [
        "for epoch in range(epochs):\n",
        "    print(f'Epoch [{epoch}/{epochs}]')\n",
        "\n",
        "    # train for one epoch\n",
        "    train_log = train(True, train_loader, model, criterion, optimizer)\n",
        "    # evaluate on validation set\n",
        "    val_log = validate(True, val_loader, model, criterion)\n",
        "\n",
        "    print('loss %.4f - iou %.4f - val_loss %.4f - val_iou %.4f'\n",
        "              % (train_log['loss'], train_log['iou'], val_log['loss'], val_log['iou']))\n",
        "\n",
        "    log['epoch'].append(epoch)\n",
        "    log['loss'].append(train_log['loss'])\n",
        "    log['iou'].append(train_log['iou'])\n",
        "    log['val_loss'].append(val_log['loss'])\n",
        "    log['val_iou'].append(val_log['iou'])\n",
        "\n",
        "    pd.DataFrame(log).to_csv(log_path, index=False)\n",
        "\n",
        "    trigger += 1\n",
        "\n",
        "    if val_log['iou'] > best_iou:\n",
        "        torch.save(model.state_dict(), model_path)\n",
        "        best_iou = val_log['iou']\n",
        "        print(\"=> saved best model\")\n",
        "        trigger = 0"
      ]
    },
    {
      "cell_type": "code",
      "execution_count": null,
      "metadata": {
        "id": "sVsD2A32vDbS"
      },
      "outputs": [],
      "source": [
        "import cv2\n",
        "import yaml\n",
        "import torch\n",
        "import numpy as np\n",
        "import matplotlib.pyplot as plt\n",
        "\n",
        "#from predict import image_loader\n",
        "#from source.network import UNetPP\n",
        "from argparse import ArgumentParser\n",
        "from albumentations.augmentations import transforms\n",
        "from albumentations.core.composition import Compose\n",
        "\n",
        "%matplotlib inline"
      ]
    },
    {
      "cell_type": "markdown",
      "metadata": {
        "id": "t_BLttOxvDbS"
      },
      "source": [
        "## Create validation transforms"
      ]
    },
    {
      "cell_type": "code",
      "execution_count": null,
      "metadata": {
        "id": "2yV39PpDvDbS"
      },
      "outputs": [],
      "source": [
        "val_transform = Compose([\n",
        "    A.Resize(256, 256),\n",
        "    transforms.Normalize(),\n",
        "])"
      ]
    },
    {
      "cell_type": "markdown",
      "metadata": {
        "id": "fySOdrohvDbS"
      },
      "source": [
        "## Load the model"
      ]
    },
    {
      "cell_type": "code",
      "execution_count": null,
      "metadata": {
        "id": "oRIZd8f3vDbS",
        "colab": {
          "base_uri": "https://localhost:8080/"
        },
        "outputId": "daa6422b-2fcd-43e8-96e6-e318ac0c61c0"
      },
      "outputs": [
        {
          "output_type": "stream",
          "name": "stderr",
          "text": [
            "<ipython-input-24-e9585919f21a>:5: FutureWarning: You are using `torch.load` with `weights_only=False` (the current default value), which uses the default pickle module implicitly. It is possible to construct malicious pickle data which will execute arbitrary code during unpickling (See https://github.com/pytorch/pytorch/blob/main/SECURITY.md#untrusted-models for more details). In a future release, the default value for `weights_only` will be flipped to `True`. This limits the functions that could be executed during unpickling. Arbitrary objects will no longer be allowed to be loaded via this mode unless they are explicitly allowlisted by the user via `torch.serialization.add_safe_globals`. We recommend you start setting `weights_only=True` for any use case where you don't have full control of the loaded file. Please open an issue on GitHub for any issues related to this experimental feature.\n",
            "  model.load_state_dict(torch.load(model_path))\n"
          ]
        },
        {
          "output_type": "execute_result",
          "data": {
            "text/plain": [
              "UNetPP(\n",
              "  (pool): MaxPool2d(kernel_size=2, stride=2, padding=0, dilation=1, ceil_mode=False)\n",
              "  (up): Upsample(scale_factor=2.0, mode='bilinear')\n",
              "  (conv0_0): VGGBlock(\n",
              "    (relu): ReLU(inplace=True)\n",
              "    (conv1): Conv2d(3, 32, kernel_size=(3, 3), stride=(1, 1), padding=(1, 1))\n",
              "    (bn1): BatchNorm2d(32, eps=1e-05, momentum=0.1, affine=True, track_running_stats=True)\n",
              "    (conv2): Conv2d(32, 32, kernel_size=(3, 3), stride=(1, 1), padding=(1, 1))\n",
              "    (bn2): BatchNorm2d(32, eps=1e-05, momentum=0.1, affine=True, track_running_stats=True)\n",
              "  )\n",
              "  (conv1_0): VGGBlock(\n",
              "    (relu): ReLU(inplace=True)\n",
              "    (conv1): Conv2d(32, 64, kernel_size=(3, 3), stride=(1, 1), padding=(1, 1))\n",
              "    (bn1): BatchNorm2d(64, eps=1e-05, momentum=0.1, affine=True, track_running_stats=True)\n",
              "    (conv2): Conv2d(64, 64, kernel_size=(3, 3), stride=(1, 1), padding=(1, 1))\n",
              "    (bn2): BatchNorm2d(64, eps=1e-05, momentum=0.1, affine=True, track_running_stats=True)\n",
              "  )\n",
              "  (conv2_0): VGGBlock(\n",
              "    (relu): ReLU(inplace=True)\n",
              "    (conv1): Conv2d(64, 128, kernel_size=(3, 3), stride=(1, 1), padding=(1, 1))\n",
              "    (bn1): BatchNorm2d(128, eps=1e-05, momentum=0.1, affine=True, track_running_stats=True)\n",
              "    (conv2): Conv2d(128, 128, kernel_size=(3, 3), stride=(1, 1), padding=(1, 1))\n",
              "    (bn2): BatchNorm2d(128, eps=1e-05, momentum=0.1, affine=True, track_running_stats=True)\n",
              "  )\n",
              "  (conv3_0): VGGBlock(\n",
              "    (relu): ReLU(inplace=True)\n",
              "    (conv1): Conv2d(128, 256, kernel_size=(3, 3), stride=(1, 1), padding=(1, 1))\n",
              "    (bn1): BatchNorm2d(256, eps=1e-05, momentum=0.1, affine=True, track_running_stats=True)\n",
              "    (conv2): Conv2d(256, 256, kernel_size=(3, 3), stride=(1, 1), padding=(1, 1))\n",
              "    (bn2): BatchNorm2d(256, eps=1e-05, momentum=0.1, affine=True, track_running_stats=True)\n",
              "  )\n",
              "  (conv4_0): VGGBlock(\n",
              "    (relu): ReLU(inplace=True)\n",
              "    (conv1): Conv2d(256, 512, kernel_size=(3, 3), stride=(1, 1), padding=(1, 1))\n",
              "    (bn1): BatchNorm2d(512, eps=1e-05, momentum=0.1, affine=True, track_running_stats=True)\n",
              "    (conv2): Conv2d(512, 512, kernel_size=(3, 3), stride=(1, 1), padding=(1, 1))\n",
              "    (bn2): BatchNorm2d(512, eps=1e-05, momentum=0.1, affine=True, track_running_stats=True)\n",
              "  )\n",
              "  (conv0_1): VGGBlock(\n",
              "    (relu): ReLU(inplace=True)\n",
              "    (conv1): Conv2d(96, 32, kernel_size=(3, 3), stride=(1, 1), padding=(1, 1))\n",
              "    (bn1): BatchNorm2d(32, eps=1e-05, momentum=0.1, affine=True, track_running_stats=True)\n",
              "    (conv2): Conv2d(32, 32, kernel_size=(3, 3), stride=(1, 1), padding=(1, 1))\n",
              "    (bn2): BatchNorm2d(32, eps=1e-05, momentum=0.1, affine=True, track_running_stats=True)\n",
              "  )\n",
              "  (conv1_1): VGGBlock(\n",
              "    (relu): ReLU(inplace=True)\n",
              "    (conv1): Conv2d(192, 64, kernel_size=(3, 3), stride=(1, 1), padding=(1, 1))\n",
              "    (bn1): BatchNorm2d(64, eps=1e-05, momentum=0.1, affine=True, track_running_stats=True)\n",
              "    (conv2): Conv2d(64, 64, kernel_size=(3, 3), stride=(1, 1), padding=(1, 1))\n",
              "    (bn2): BatchNorm2d(64, eps=1e-05, momentum=0.1, affine=True, track_running_stats=True)\n",
              "  )\n",
              "  (conv2_1): VGGBlock(\n",
              "    (relu): ReLU(inplace=True)\n",
              "    (conv1): Conv2d(384, 128, kernel_size=(3, 3), stride=(1, 1), padding=(1, 1))\n",
              "    (bn1): BatchNorm2d(128, eps=1e-05, momentum=0.1, affine=True, track_running_stats=True)\n",
              "    (conv2): Conv2d(128, 128, kernel_size=(3, 3), stride=(1, 1), padding=(1, 1))\n",
              "    (bn2): BatchNorm2d(128, eps=1e-05, momentum=0.1, affine=True, track_running_stats=True)\n",
              "  )\n",
              "  (conv3_1): VGGBlock(\n",
              "    (relu): ReLU(inplace=True)\n",
              "    (conv1): Conv2d(768, 256, kernel_size=(3, 3), stride=(1, 1), padding=(1, 1))\n",
              "    (bn1): BatchNorm2d(256, eps=1e-05, momentum=0.1, affine=True, track_running_stats=True)\n",
              "    (conv2): Conv2d(256, 256, kernel_size=(3, 3), stride=(1, 1), padding=(1, 1))\n",
              "    (bn2): BatchNorm2d(256, eps=1e-05, momentum=0.1, affine=True, track_running_stats=True)\n",
              "  )\n",
              "  (conv0_2): VGGBlock(\n",
              "    (relu): ReLU(inplace=True)\n",
              "    (conv1): Conv2d(128, 32, kernel_size=(3, 3), stride=(1, 1), padding=(1, 1))\n",
              "    (bn1): BatchNorm2d(32, eps=1e-05, momentum=0.1, affine=True, track_running_stats=True)\n",
              "    (conv2): Conv2d(32, 32, kernel_size=(3, 3), stride=(1, 1), padding=(1, 1))\n",
              "    (bn2): BatchNorm2d(32, eps=1e-05, momentum=0.1, affine=True, track_running_stats=True)\n",
              "  )\n",
              "  (conv1_2): VGGBlock(\n",
              "    (relu): ReLU(inplace=True)\n",
              "    (conv1): Conv2d(256, 64, kernel_size=(3, 3), stride=(1, 1), padding=(1, 1))\n",
              "    (bn1): BatchNorm2d(64, eps=1e-05, momentum=0.1, affine=True, track_running_stats=True)\n",
              "    (conv2): Conv2d(64, 64, kernel_size=(3, 3), stride=(1, 1), padding=(1, 1))\n",
              "    (bn2): BatchNorm2d(64, eps=1e-05, momentum=0.1, affine=True, track_running_stats=True)\n",
              "  )\n",
              "  (conv2_2): VGGBlock(\n",
              "    (relu): ReLU(inplace=True)\n",
              "    (conv1): Conv2d(512, 128, kernel_size=(3, 3), stride=(1, 1), padding=(1, 1))\n",
              "    (bn1): BatchNorm2d(128, eps=1e-05, momentum=0.1, affine=True, track_running_stats=True)\n",
              "    (conv2): Conv2d(128, 128, kernel_size=(3, 3), stride=(1, 1), padding=(1, 1))\n",
              "    (bn2): BatchNorm2d(128, eps=1e-05, momentum=0.1, affine=True, track_running_stats=True)\n",
              "  )\n",
              "  (conv0_3): VGGBlock(\n",
              "    (relu): ReLU(inplace=True)\n",
              "    (conv1): Conv2d(160, 32, kernel_size=(3, 3), stride=(1, 1), padding=(1, 1))\n",
              "    (bn1): BatchNorm2d(32, eps=1e-05, momentum=0.1, affine=True, track_running_stats=True)\n",
              "    (conv2): Conv2d(32, 32, kernel_size=(3, 3), stride=(1, 1), padding=(1, 1))\n",
              "    (bn2): BatchNorm2d(32, eps=1e-05, momentum=0.1, affine=True, track_running_stats=True)\n",
              "  )\n",
              "  (conv1_3): VGGBlock(\n",
              "    (relu): ReLU(inplace=True)\n",
              "    (conv1): Conv2d(320, 64, kernel_size=(3, 3), stride=(1, 1), padding=(1, 1))\n",
              "    (bn1): BatchNorm2d(64, eps=1e-05, momentum=0.1, affine=True, track_running_stats=True)\n",
              "    (conv2): Conv2d(64, 64, kernel_size=(3, 3), stride=(1, 1), padding=(1, 1))\n",
              "    (bn2): BatchNorm2d(64, eps=1e-05, momentum=0.1, affine=True, track_running_stats=True)\n",
              "  )\n",
              "  (conv0_4): VGGBlock(\n",
              "    (relu): ReLU(inplace=True)\n",
              "    (conv1): Conv2d(192, 32, kernel_size=(3, 3), stride=(1, 1), padding=(1, 1))\n",
              "    (bn1): BatchNorm2d(32, eps=1e-05, momentum=0.1, affine=True, track_running_stats=True)\n",
              "    (conv2): Conv2d(32, 32, kernel_size=(3, 3), stride=(1, 1), padding=(1, 1))\n",
              "    (bn2): BatchNorm2d(32, eps=1e-05, momentum=0.1, affine=True, track_running_stats=True)\n",
              "  )\n",
              "  (final1): Conv2d(32, 1, kernel_size=(1, 1), stride=(1, 1))\n",
              "  (final2): Conv2d(32, 1, kernel_size=(1, 1), stride=(1, 1))\n",
              "  (final3): Conv2d(32, 1, kernel_size=(1, 1), stride=(1, 1))\n",
              "  (final4): Conv2d(32, 1, kernel_size=(1, 1), stride=(1, 1))\n",
              ")"
            ]
          },
          "metadata": {},
          "execution_count": 24
        }
      ],
      "source": [
        "# Create model object\n",
        "model = UNetPP(1, 3, True)\n",
        "\n",
        "# Load pre-trained weights\n",
        "model.load_state_dict(torch.load(model_path))\n",
        "\n",
        "# Port the model to GPU if it is available\n",
        "if torch.cuda.is_available():\n",
        "    model.cuda()\n",
        "\n",
        "# Set model mode to evaluation\n",
        "model.eval()"
      ]
    },
    {
      "cell_type": "code",
      "source": [
        "def image_loader(image_name):\n",
        "    img = cv2.imread(image_name)\n",
        "    img = val_transform(image=img)[\"image\"]\n",
        "    img = img.astype('float32') / 255\n",
        "    img = img.transpose(2, 0, 1)\n",
        "\n",
        "    return img"
      ],
      "metadata": {
        "id": "ka1b8tyMatxZ"
      },
      "execution_count": null,
      "outputs": []
    },
    {
      "cell_type": "markdown",
      "metadata": {
        "id": "_aHEbqOLvDbT"
      },
      "source": [
        "## Load the test image"
      ]
    },
    {
      "cell_type": "code",
      "execution_count": null,
      "metadata": {
        "id": "OOzrLV9ivDbT"
      },
      "outputs": [],
      "source": [
        "\n",
        "\n",
        "test_img = \"/content/drive/MyDrive/IzhanResearch/Original/10.png\"\n",
        "image = image_loader(test_img)\n",
        "\n",
        "# Convert the image to a batch of 1 image\n",
        "image = np.expand_dims(image,0)\n",
        "\n",
        "# Convert numpy array to torch tensor\n",
        "image = torch.from_numpy(image)\n",
        "# Port the image to GPU if it is available\n",
        "if torch.cuda.is_available():\n",
        "  image = image.to(device=\"cuda\")"
      ]
    },
    {
      "cell_type": "code",
      "execution_count": null,
      "metadata": {
        "id": "2j0aJ6ZZvDbT"
      },
      "outputs": [],
      "source": []
    },
    {
      "cell_type": "markdown",
      "metadata": {
        "id": "ugfWvmDIvDbT"
      },
      "source": [
        "## Make prediction"
      ]
    },
    {
      "cell_type": "code",
      "execution_count": null,
      "metadata": {
        "id": "p6ApsUNKvDbT"
      },
      "outputs": [],
      "source": [
        "mask = model(image)"
      ]
    },
    {
      "cell_type": "code",
      "execution_count": null,
      "metadata": {
        "id": "UWWRy-tWvDbU",
        "colab": {
          "base_uri": "https://localhost:8080/",
          "height": 452
        },
        "outputId": "ee0c1a59-5b00-4f5a-fef5-7912b09d3157"
      },
      "outputs": [
        {
          "output_type": "execute_result",
          "data": {
            "text/plain": [
              "<matplotlib.image.AxesImage at 0x7837bb0f8be0>"
            ]
          },
          "metadata": {},
          "execution_count": 37
        },
        {
          "output_type": "display_data",
          "data": {
            "text/plain": [
              "<Figure size 640x480 with 1 Axes>"
            ],
            "image/png": "[encoded data removed]"
          },
          "metadata": {}
        }
      ],
      "source": [
        "mask = mask[-1]\n",
        "\n",
        "# Convert torch tensor to numpy array\n",
        "mask = mask.detach().cpu().numpy()\n",
        "\n",
        "# Convert output to a 2-d array\n",
        "mask = np.squeeze(np.squeeze(mask, axis=0), axis=0)\n",
        "\n",
        "# Convert output to binary based on threshold\n",
        "mask[mask > -2.5] = 255\n",
        "mask[mask <= -2.5] = 0\n",
        "\n",
        "# Resize the ouptut image to input image size\n",
        "mask = cv2.resize(mask, (im_width, im_height))\n",
        "\n",
        "# Plot the generated mask\n",
        "plt.imshow(mask, cmap=\"gray\")"
      ]
    },
    {
      "cell_type": "markdown",
      "metadata": {
        "id": "-pnMKi3IvDbU"
      },
      "source": [
        "## Read and plot the ground truth mask"
      ]
    },
    {
      "cell_type": "code",
      "execution_count": null,
      "metadata": {
        "id": "Bs2ymANUvDbU",
        "colab": {
          "base_uri": "https://localhost:8080/",
          "height": 452
        },
        "outputId": "01f22ce4-2787-41d2-c94b-28732639fc26"
      },
      "outputs": [
        {
          "output_type": "execute_result",
          "data": {
            "text/plain": [
              "<matplotlib.image.AxesImage at 0x7837bb031990>"
            ]
          },
          "metadata": {},
          "execution_count": 38
        },
        {
          "output_type": "display_data",
          "data": {
            "text/plain": [
              "<Figure size 640x480 with 1 Axes>"
            ],
            "image/png": "[encoded data removed]"
          },
          "metadata": {}
        }
      ],
      "source": [
        "actual_mask = \"/content/drive/MyDrive/IzhanResearch/GroundTruth/10.png\"\n",
        "am = plt.imread(actual_mask)\n",
        "plt.imshow(am, cmap=\"gray\")"
      ]
    },
    {
      "cell_type": "code",
      "execution_count": null,
      "metadata": {
        "id": "6sJ1r3t_vDbU"
      },
      "outputs": [],
      "source": []
    }
  ],
  "metadata": {
    "accelerator": "GPU",
    "colab": {
      "provenance": [],
      "machine_shape": "hm",
      "gpuType": "L4"
    },
    "kernelspec": {
      "display_name": "Python 3",
      "name": "python3"
    },
    "language_info": {
      "codemirror_mode": {
        "name": "ipython",
        "version": 3
      },
      "file_extension": ".py",
      "mimetype": "text/x-python",
      "name": "python",
      "nbconvert_exporter": "python",
      "pygments_lexer": "ipython3",
      "version": "3.11.3"
    }
  },
  "nbformat": 4,
  "nbformat_minor": 0
}