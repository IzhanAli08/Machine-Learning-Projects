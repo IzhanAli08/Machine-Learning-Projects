{
  "nbformat": 4,
  "nbformat_minor": 0,
  "metadata": {
    "colab": {
      "provenance": [],
      "authorship_tag": "ABX9TyOvTbTWX1SSm3+WxJb1+cyT",
      "include_colab_link": true
    },
    "kernelspec": {
      "name": "python3",
      "display_name": "Python 3"
    },
    "language_info": {
      "name": "python"
    }
  },
  "cells": [
    {
      "cell_type": "markdown",
      "metadata": {
        "id": "view-in-github",
        "colab_type": "text"
      },
      "source": [
        "<a href=\"https://colab.research.google.com/github/IzhanAli08/Machine-Learning-Projects/blob/main/IntroToMachineLearning.ipynb\" target=\"_parent\"><img src=\"https://colab.research.google.com/assets/colab-badge.svg\" alt=\"Open In Colab\"/></a>"
      ]
    },
    {
      "cell_type": "markdown",
      "source": [
        "## Introduction to Machine Learning\n",
        "\n",
        "The fundamental idea of machine Learning is to find patterns from a given set of examples and using those patterns answer questions about unknown examples.\n",
        "\n",
        "For example, I am interested in predicting car prices. I will collect data from my neighbors asking them their car prices. I will also note down various attributes of their cars (for example their make, model, specifications etc.). These attributes impact car prices therefore these can be used to create a mathematical model (consider this as a black-box) by training (teaching) the model this relationship between attributes and prices. Once the model has learnt the relationship it can output the approximate price of any new car given its attributes.\n",
        "\n",
        "All we need for machine learning is a dataset in which for each input item (a car) we\n",
        "have the desired output (the price)."
      ],
      "metadata": {
        "id": "xfFPiRlKVCfM"
      }
    },
    {
      "cell_type": "markdown",
      "source": [
        "This process of solving problems is different from any traditional techniques because the machine learning system is discovering patterns itself.In traditional software we discover\n",
        "patterns manually and encode them\n",
        "using a programming language usually through a rule based approach. In today's day and age this is tedious because there is a lot of data generated everywhere and changind rules accordingly can be difficult."
      ],
      "metadata": {
        "id": "XUgE7hqLXVmP"
      }
    },
    {
      "cell_type": "markdown",
      "source": [
        "### When Machine Learning is not helpful\n",
        "\n",
        "For simple tasks that can be solved using rule-based approaches, ML (Machine Learning) is not a good way of solving problems. ML based problem solving is mostly suited for prediction based tasks."
      ],
      "metadata": {
        "id": "G5YU0-AKXpTg"
      }
    },
    {
      "cell_type": "markdown",
      "source": [
        "### Paradigms of ML\n",
        "\n",
        "1. Supervised\n",
        "2. Unsupervised"
      ],
      "metadata": {
        "id": "Dwqs-LClY3wT"
      }
    }
  ]
}