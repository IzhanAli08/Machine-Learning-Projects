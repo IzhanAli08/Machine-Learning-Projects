{
  "nbformat": 4,
  "nbformat_minor": 0,
  "metadata": {
    "colab": {
      "provenance": [],
      "authorship_tag": "ABX9TyNDrfT1yAU5hobl/JVpBrYr",
      "include_colab_link": true
    },
    "kernelspec": {
      "name": "python3",
      "display_name": "Python 3"
    },
    "language_info": {
      "name": "python"
    }
  },
  "cells": [
    {
      "cell_type": "markdown",
      "metadata": {
        "id": "view-in-github",
        "colab_type": "text"
      },
      "source": [
        "<a href=\"https://colab.research.google.com/github/IzhanAli08/Machine-Learning-Projects/blob/main/IntroToMachineLearning.ipynb\" target=\"_parent\"><img src=\"https://colab.research.google.com/assets/colab-badge.svg\" alt=\"Open In Colab\"/></a>"
      ]
    },
    {
      "cell_type": "markdown",
      "source": [
        "## Introduction to Machine Learning\n",
        "\n",
        "The fundamental idea of machine Learning is to find patterns from a given set of examples and using those patterns answer questions about unknown examples.\n",
        "\n",
        "For example, I am interested in predicting car prices. I will collect data from my neighbors asking them their car prices. I will also note down various attributes of their cars (for example their make, model, specifications etc.). These attributes impact car prices therefore these can be used to create a mathematical model (consider this as a black-box) by training (teching) the model this relationship between attributes and prices. Once the model has learnt the relationship it can output the approximate price of any new car given its attributes.\n",
        "\n",
        "All we need for machine learning is a dataset in which for each input item (a car) we\n",
        "have the desired output (the price)."
      ],
      "metadata": {
        "id": "xfFPiRlKVCfM"
      }
    }
  ]
}