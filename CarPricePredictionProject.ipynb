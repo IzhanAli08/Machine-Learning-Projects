{
  "nbformat": 4,
  "nbformat_minor": 0,
  "metadata": {
    "colab": {
      "provenance": [],
      "authorship_tag": "ABX9TyMUZ27x+nqjj7AcXH4nDafg",
      "include_colab_link": true
    },
    "kernelspec": {
      "name": "python3",
      "display_name": "Python 3"
    },
    "language_info": {
      "name": "python"
    }
  },
  "cells": [
    {
      "cell_type": "markdown",
      "metadata": {
        "id": "view-in-github",
        "colab_type": "text"
      },
      "source": [
        "<a href=\"https://colab.research.google.com/github/IzhanAli08/Machine-Learning-Projects/blob/main/CarPricePredictionProject.ipynb\" target=\"_parent\"><img src=\"https://colab.research.google.com/assets/colab-badge.svg\" alt=\"Open In Colab\"/></a>"
      ]
    },
    {
      "cell_type": "markdown",
      "source": [
        "# Car Price Prediction using Regression\n",
        "\n",
        "In this project, the goal is to predict car prices based on inputs/specifications of a car. For example, the model that we build, should be able to correctly tell the price of a car if provided with model, make, year, mileage, and other important characteristics of a car. This is an important problem for many car resale businesses.\n",
        "\n",
        "For any problem that requires the prediction of a continuous value, we use something known as regression. I read about regression here:\n",
        "\n",
        "[Linear Regression](https://www.analyticsvidhya.com/blog/2021/10/everything-you-need-to-know-about-linear-regression/)\n",
        "\n",
        "Before starting with the project, make sure you understand the idea of linear regression."
      ],
      "metadata": {
        "id": "1uUUwapUkRtt"
      }
    },
    {
      "cell_type": "markdown",
      "source": [
        "### Project Plan\n",
        "\n",
        "The plan for the project is the following:\n",
        "\n",
        "1 First, we download the dataset.\n",
        "\n",
        "2 Next, we do some preliminary analysis of the data. This is called Exploratory data analysis(EDA).\n",
        "\n",
        "3 After that, we set up a validation strategy to make sure our model produces correct\n",
        "predictions. This involves testing model performance on unknown data points.\n",
        "\n",
        "4 Then we implement a linear regression model in Python and NumPy.\n",
        "\n",
        "5 Next, we cover feature engineering to extract important features from the data\n",
        "to improve the model.\n",
        "\n",
        "6 Finally, we see how to make our model stable with regularization and use it to\n",
        "predict car prices.\n",
        "\n",
        "#### References\n",
        "\n",
        "Machine learning Bootcamp (Grigov)\n",
        "\n",
        "https://numpy.org/\n",
        "\n"
      ],
      "metadata": {
        "id": "gLD9WqJTlwdj"
      }
    }
  ]
}